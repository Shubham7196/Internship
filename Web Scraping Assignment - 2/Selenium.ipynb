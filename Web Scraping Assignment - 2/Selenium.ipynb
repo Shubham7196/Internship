{
 "cells": [
  {
   "cell_type": "markdown",
   "id": "5e751bab",
   "metadata": {},
   "source": [
    "## Q - 1 : Write a python program to scrape data for “Data Analyst” Job position in “Bangalore” location. You have to scrape the job-title, job-location, company_name, experience_required. You have to scrape first 10 jobs data."
   ]
  },
  {
   "cell_type": "code",
   "execution_count": 3,
   "id": "b09f5b47",
   "metadata": {},
   "outputs": [
    {
     "name": "stdout",
     "output_type": "stream",
     "text": [
      "Collecting selenium\n",
      "  Downloading selenium-4.1.0-py3-none-any.whl (958 kB)\n",
      "Collecting trio~=0.17\n",
      "  Downloading trio-0.19.0-py3-none-any.whl (356 kB)\n",
      "Collecting trio-websocket~=0.9\n",
      "  Downloading trio_websocket-0.9.2-py3-none-any.whl (16 kB)\n",
      "Requirement already satisfied: urllib3[secure]~=1.26 in c:\\programdata\\anaconda3\\lib\\site-packages (from selenium) (1.26.4)\n",
      "Requirement already satisfied: cffi>=1.14 in c:\\programdata\\anaconda3\\lib\\site-packages (from trio~=0.17->selenium) (1.14.5)\n",
      "Collecting outcome\n",
      "  Downloading outcome-1.1.0-py2.py3-none-any.whl (9.7 kB)\n",
      "Requirement already satisfied: sortedcontainers in c:\\programdata\\anaconda3\\lib\\site-packages (from trio~=0.17->selenium) (2.3.0)\n",
      "Requirement already satisfied: async-generator>=1.9 in c:\\programdata\\anaconda3\\lib\\site-packages (from trio~=0.17->selenium) (1.10)\n",
      "Requirement already satisfied: attrs>=19.2.0 in c:\\programdata\\anaconda3\\lib\\site-packages (from trio~=0.17->selenium) (20.3.0)\n",
      "Requirement already satisfied: sniffio in c:\\programdata\\anaconda3\\lib\\site-packages (from trio~=0.17->selenium) (1.2.0)\n",
      "Requirement already satisfied: idna in c:\\programdata\\anaconda3\\lib\\site-packages (from trio~=0.17->selenium) (2.10)\n",
      "Requirement already satisfied: pycparser in c:\\programdata\\anaconda3\\lib\\site-packages (from cffi>=1.14->trio~=0.17->selenium) (2.20)\n",
      "Collecting wsproto>=0.14\n",
      "  Downloading wsproto-1.0.0-py3-none-any.whl (24 kB)\n",
      "Requirement already satisfied: certifi in c:\\programdata\\anaconda3\\lib\\site-packages (from urllib3[secure]~=1.26->selenium) (2020.12.5)\n",
      "Requirement already satisfied: cryptography>=1.3.4 in c:\\programdata\\anaconda3\\lib\\site-packages (from urllib3[secure]~=1.26->selenium) (3.4.7)\n",
      "Requirement already satisfied: pyOpenSSL>=0.14 in c:\\programdata\\anaconda3\\lib\\site-packages (from urllib3[secure]~=1.26->selenium) (20.0.1)\n",
      "Requirement already satisfied: six>=1.5.2 in c:\\programdata\\anaconda3\\lib\\site-packages (from pyOpenSSL>=0.14->urllib3[secure]~=1.26->selenium) (1.15.0)\n",
      "Collecting h11<1,>=0.9.0\n",
      "  Downloading h11-0.13.0-py3-none-any.whl (58 kB)\n",
      "Installing collected packages: outcome, h11, wsproto, trio, trio-websocket, selenium\n",
      "Successfully installed h11-0.13.0 outcome-1.1.0 selenium-4.1.0 trio-0.19.0 trio-websocket-0.9.2 wsproto-1.0.0\n"
     ]
    }
   ],
   "source": [
    "!pip install selenium"
   ]
  },
  {
   "cell_type": "code",
   "execution_count": 21,
   "id": "c95c4e8f",
   "metadata": {},
   "outputs": [],
   "source": [
    "import selenium\n",
    "from selenium import webdriver\n",
    "import pandas as pd\n",
    "import warnings\n",
    "warnings.filterwarnings(\"ignore\")"
   ]
  },
  {
   "cell_type": "code",
   "execution_count": 22,
   "id": "cf3f718d",
   "metadata": {},
   "outputs": [],
   "source": [
    "driver = webdriver.Chrome(r'C:\\Users\\Wystre\\Desktop\\chromedriver.exe')"
   ]
  },
  {
   "cell_type": "code",
   "execution_count": 23,
   "id": "ea654f14",
   "metadata": {},
   "outputs": [],
   "source": [
    "url = 'https://www.naukri.com/'\n",
    "driver.get(url)"
   ]
  },
  {
   "cell_type": "code",
   "execution_count": 24,
   "id": "96c4bb55",
   "metadata": {},
   "outputs": [
    {
     "data": {
      "text/plain": [
       "<selenium.webdriver.remote.webelement.WebElement (session=\"e7323e81613187afd330af4a3e7ddfca\", element=\"66d03764-d10b-4416-bf06-111d3eb80778\")>"
      ]
     },
     "execution_count": 24,
     "metadata": {},
     "output_type": "execute_result"
    }
   ],
   "source": [
    "#find the web element for search job bar using class name\n",
    "\n",
    "search_job = driver.find_element_by_xpath('/html/body/div/div[2]/div[3]/div/div/div[1]/div/div/div/input')\n",
    "search_job"
   ]
  },
  {
   "cell_type": "code",
   "execution_count": 25,
   "id": "a1bad1e1",
   "metadata": {},
   "outputs": [],
   "source": [
    "# write on searchbar\n",
    "\n",
    "search_job.send_keys(\"“Data Analyst\")"
   ]
  },
  {
   "cell_type": "code",
   "execution_count": 26,
   "id": "8acfbfbc",
   "metadata": {},
   "outputs": [
    {
     "data": {
      "text/plain": [
       "<selenium.webdriver.remote.webelement.WebElement (session=\"e7323e81613187afd330af4a3e7ddfca\", element=\"301627b1-fd18-46cb-b590-39e9a8a26f36\")>"
      ]
     },
     "execution_count": 26,
     "metadata": {},
     "output_type": "execute_result"
    }
   ],
   "source": [
    "search_locn= driver.find_element_by_xpath('/html/body/div/div[2]/div[3]/div/div/div[3]/div/div/div/input')\n",
    "search_locn"
   ]
  },
  {
   "cell_type": "code",
   "execution_count": 27,
   "id": "d5e45ce8",
   "metadata": {},
   "outputs": [],
   "source": [
    "# write on search bar\n",
    "\n",
    "search_locn.send_keys(\"Bangalore\")"
   ]
  },
  {
   "cell_type": "code",
   "execution_count": 28,
   "id": "73667e0d",
   "metadata": {},
   "outputs": [
    {
     "data": {
      "text/plain": [
       "<selenium.webdriver.remote.webelement.WebElement (session=\"e7323e81613187afd330af4a3e7ddfca\", element=\"f523b4ef-2ff2-4901-b7c0-93a9c301e485\")>"
      ]
     },
     "execution_count": 28,
     "metadata": {},
     "output_type": "execute_result"
    }
   ],
   "source": [
    "search_btn= driver.find_element_by_class_name(\"qsbSubmit\")\n",
    "search_btn"
   ]
  },
  {
   "cell_type": "raw",
   "id": "2fad7611",
   "metadata": {},
   "source": [
    "search_btn.click()"
   ]
  },
  {
   "cell_type": "markdown",
   "id": "94e4a155",
   "metadata": {},
   "source": [
    "## Extract Job-Title\n"
   ]
  },
  {
   "cell_type": "code",
   "execution_count": 31,
   "id": "edc66b65",
   "metadata": {},
   "outputs": [
    {
     "data": {
      "text/plain": [
       "20"
      ]
     },
     "execution_count": 31,
     "metadata": {},
     "output_type": "execute_result"
    }
   ],
   "source": [
    "title_tag = driver.find_elements_by_xpath('//a[@class=\"title fw500 ellipsis\"]')\n",
    "len(title_tag)"
   ]
  },
  {
   "cell_type": "code",
   "execution_count": 32,
   "id": "12799685",
   "metadata": {},
   "outputs": [
    {
     "data": {
      "text/plain": [
       "['Senior Data Analyst - Data Modeling/Database Design',\n",
       " 'Data analyst',\n",
       " 'Data Analyst',\n",
       " 'Financial Data Analyst',\n",
       " 'Data Analyst',\n",
       " 'OYO Rooms - Data Analyst / Business Analyst',\n",
       " 'Data Analyst - Python/SQL',\n",
       " 'Data Analyst - IT',\n",
       " 'Senior Data Analyst - Collibra',\n",
       " 'Business Analyst/Data Analyst',\n",
       " 'Senior Data Analyst - KPO',\n",
       " 'Consultant - Data Analyst',\n",
       " 'Lead CLR Data Analyst',\n",
       " 'Data Analyst',\n",
       " 'Data analyst',\n",
       " 'Pipeline/Piping Data Analyst Trainee',\n",
       " 'Data Analyst',\n",
       " 'Data Analyst',\n",
       " 'Lead Business Analyst - Data Science and Advanced Analytics',\n",
       " 'Senior Data Analyst']"
      ]
     },
     "execution_count": 32,
     "metadata": {},
     "output_type": "execute_result"
    }
   ],
   "source": [
    "\n",
    "job_titles = []\n",
    "\n",
    "for i in title_tag :\n",
    "    job_titles.append(i.text)\n",
    "    \n",
    "job_titles    "
   ]
  },
  {
   "cell_type": "markdown",
   "id": "6748e1cd",
   "metadata": {},
   "source": [
    "## Extracting job-location\n"
   ]
  },
  {
   "cell_type": "code",
   "execution_count": 35,
   "id": "47138d2f",
   "metadata": {},
   "outputs": [
    {
     "data": {
      "text/plain": [
       "20"
      ]
     },
     "execution_count": 35,
     "metadata": {},
     "output_type": "execute_result"
    }
   ],
   "source": [
    "loc_tags= driver.find_elements_by_xpath('//li[@class=\"fleft grey-text br2 placeHolderLi location\"]')\n",
    "len(loc_tags)"
   ]
  },
  {
   "cell_type": "code",
   "execution_count": 36,
   "id": "48ac1991",
   "metadata": {},
   "outputs": [
    {
     "data": {
      "text/plain": [
       "['Bangalore/Bengaluru',\n",
       " 'Bangalore/Bengaluru',\n",
       " 'Bangalore/Bengaluru',\n",
       " 'Bangalore/Bengaluru',\n",
       " 'Bangalore/Bengaluru',\n",
       " 'Bangalore/Bengaluru, Delhi / NCR, Mumbai (All Areas)',\n",
       " 'Bangalore/Bengaluru',\n",
       " 'Bangalore/Bengaluru',\n",
       " 'Bangalore/Bengaluru',\n",
       " 'Hyderabad/Secunderabad, Bangalore/Bengaluru, Delhi / NCR',\n",
       " 'Gurgaon/Gurugram, Bangalore/Bengaluru',\n",
       " 'Bangalore/Bengaluru',\n",
       " 'Bangalore/Bengaluru',\n",
       " 'Mumbai, Pune, Bangalore/Bengaluru',\n",
       " 'Bangalore/Bengaluru',\n",
       " 'Bangalore/Bengaluru',\n",
       " 'Bangalore/Bengaluru(HSR Layout +7)',\n",
       " 'Bangalore/Bengaluru',\n",
       " 'Bangalore/Bengaluru',\n",
       " 'Remote']"
      ]
     },
     "execution_count": 36,
     "metadata": {},
     "output_type": "execute_result"
    }
   ],
   "source": [
    "loc_titles = []\n",
    "\n",
    "for l in loc_tags:\n",
    "    loc_titles.append(l.text)\n",
    "    \n",
    "loc_titles    "
   ]
  },
  {
   "cell_type": "markdown",
   "id": "4a6a61d4",
   "metadata": {},
   "source": [
    "## Extracting  company_name"
   ]
  },
  {
   "cell_type": "code",
   "execution_count": 37,
   "id": "1b3f1483",
   "metadata": {},
   "outputs": [
    {
     "data": {
      "text/plain": [
       "20"
      ]
     },
     "execution_count": 37,
     "metadata": {},
     "output_type": "execute_result"
    }
   ],
   "source": [
    "comp_tags = driver.find_elements_by_xpath('//a[@class = \"subTitle ellipsis fleft\"]')\n",
    "len(comp_tags)"
   ]
  },
  {
   "cell_type": "code",
   "execution_count": 40,
   "id": "4da918cb",
   "metadata": {},
   "outputs": [
    {
     "data": {
      "text/plain": [
       "['K & R Enterprises',\n",
       " 'GSK India',\n",
       " 'GSK India',\n",
       " \"Moody's\",\n",
       " 'Aldius Consulting Services Pvt Ltd (Paramantra)',\n",
       " 'OyoRooms',\n",
       " 'Affine',\n",
       " 'Yespired',\n",
       " 'Shell',\n",
       " 'Telamon HR Solutions',\n",
       " 'Huquo Consulting Pvt. Ltd',\n",
       " 'Flipkart',\n",
       " 'Target',\n",
       " 'National Entrepreneurship',\n",
       " 'GSK India',\n",
       " 'TIMS SOLUTIONS PRIVATE LIMITED',\n",
       " 'Insure Pro 2.0',\n",
       " 'BERKMEER INDIA PRIVATE LIMITED',\n",
       " 'Vmware',\n",
       " 'Liventus']"
      ]
     },
     "execution_count": 40,
     "metadata": {},
     "output_type": "execute_result"
    }
   ],
   "source": [
    "comp_titles = []\n",
    "\n",
    "for c in comp_tags:\n",
    "    comp_titles.append(c.text)\n",
    "    \n",
    "comp_titles  "
   ]
  },
  {
   "cell_type": "markdown",
   "id": "2335dcc4",
   "metadata": {},
   "source": [
    "## Extracting experience_required"
   ]
  },
  {
   "cell_type": "code",
   "execution_count": 41,
   "id": "e3b153c6",
   "metadata": {},
   "outputs": [
    {
     "data": {
      "text/plain": [
       "20"
      ]
     },
     "execution_count": 41,
     "metadata": {},
     "output_type": "execute_result"
    }
   ],
   "source": [
    "expr_tags= driver.find_elements_by_xpath('//li[@class=\"fleft grey-text br2 placeHolderLi experience\"]')\n",
    "len(expr_tags)"
   ]
  },
  {
   "cell_type": "code",
   "execution_count": 44,
   "id": "2d37af44",
   "metadata": {},
   "outputs": [
    {
     "data": {
      "text/plain": [
       "['4-6 Yrs',\n",
       " '5-9 Yrs',\n",
       " '7-10 Yrs',\n",
       " '0-2 Yrs',\n",
       " '0-2 Yrs',\n",
       " '2-6 Yrs',\n",
       " '3-5 Yrs',\n",
       " '3-8 Yrs',\n",
       " '8-12 Yrs',\n",
       " '3-5 Yrs',\n",
       " '7-12 Yrs',\n",
       " '1-3 Yrs',\n",
       " '7-12 Yrs',\n",
       " '3-7 Yrs',\n",
       " '5-9 Yrs',\n",
       " '0-4 Yrs',\n",
       " '0-2 Yrs',\n",
       " '0-2 Yrs',\n",
       " '4-7 Yrs',\n",
       " '5-8 Yrs']"
      ]
     },
     "execution_count": 44,
     "metadata": {},
     "output_type": "execute_result"
    }
   ],
   "source": [
    "expr_titles = []\n",
    "\n",
    "for e in expr_tags:\n",
    "    expr_titles.append(e.text)\n",
    "\n",
    "expr_titles    "
   ]
  },
  {
   "cell_type": "code",
   "execution_count": 49,
   "id": "83c4632e",
   "metadata": {},
   "outputs": [
    {
     "data": {
      "text/html": [
       "<div>\n",
       "<style scoped>\n",
       "    .dataframe tbody tr th:only-of-type {\n",
       "        vertical-align: middle;\n",
       "    }\n",
       "\n",
       "    .dataframe tbody tr th {\n",
       "        vertical-align: top;\n",
       "    }\n",
       "\n",
       "    .dataframe thead th {\n",
       "        text-align: right;\n",
       "    }\n",
       "</style>\n",
       "<table border=\"1\" class=\"dataframe\">\n",
       "  <thead>\n",
       "    <tr style=\"text-align: right;\">\n",
       "      <th></th>\n",
       "      <th>Job Title</th>\n",
       "      <th>Location</th>\n",
       "      <th>Company Name</th>\n",
       "      <th>Exprence</th>\n",
       "    </tr>\n",
       "  </thead>\n",
       "  <tbody>\n",
       "    <tr>\n",
       "      <th>0</th>\n",
       "      <td>Senior Data Analyst - Data Modeling/Database D...</td>\n",
       "      <td>Bangalore/Bengaluru</td>\n",
       "      <td>K &amp; R Enterprises</td>\n",
       "      <td>4-6 Yrs</td>\n",
       "    </tr>\n",
       "    <tr>\n",
       "      <th>1</th>\n",
       "      <td>Data analyst</td>\n",
       "      <td>Bangalore/Bengaluru</td>\n",
       "      <td>GSK India</td>\n",
       "      <td>5-9 Yrs</td>\n",
       "    </tr>\n",
       "    <tr>\n",
       "      <th>2</th>\n",
       "      <td>Data Analyst</td>\n",
       "      <td>Bangalore/Bengaluru</td>\n",
       "      <td>GSK India</td>\n",
       "      <td>7-10 Yrs</td>\n",
       "    </tr>\n",
       "    <tr>\n",
       "      <th>3</th>\n",
       "      <td>Financial Data Analyst</td>\n",
       "      <td>Bangalore/Bengaluru</td>\n",
       "      <td>Moody's</td>\n",
       "      <td>0-2 Yrs</td>\n",
       "    </tr>\n",
       "    <tr>\n",
       "      <th>4</th>\n",
       "      <td>Data Analyst</td>\n",
       "      <td>Bangalore/Bengaluru</td>\n",
       "      <td>Aldius Consulting Services Pvt Ltd (Paramantra)</td>\n",
       "      <td>0-2 Yrs</td>\n",
       "    </tr>\n",
       "    <tr>\n",
       "      <th>5</th>\n",
       "      <td>OYO Rooms - Data Analyst / Business Analyst</td>\n",
       "      <td>Bangalore/Bengaluru, Delhi / NCR, Mumbai (All ...</td>\n",
       "      <td>OyoRooms</td>\n",
       "      <td>2-6 Yrs</td>\n",
       "    </tr>\n",
       "    <tr>\n",
       "      <th>6</th>\n",
       "      <td>Data Analyst - Python/SQL</td>\n",
       "      <td>Bangalore/Bengaluru</td>\n",
       "      <td>Affine</td>\n",
       "      <td>3-5 Yrs</td>\n",
       "    </tr>\n",
       "    <tr>\n",
       "      <th>7</th>\n",
       "      <td>Data Analyst - IT</td>\n",
       "      <td>Bangalore/Bengaluru</td>\n",
       "      <td>Yespired</td>\n",
       "      <td>3-8 Yrs</td>\n",
       "    </tr>\n",
       "    <tr>\n",
       "      <th>8</th>\n",
       "      <td>Senior Data Analyst - Collibra</td>\n",
       "      <td>Bangalore/Bengaluru</td>\n",
       "      <td>Shell</td>\n",
       "      <td>8-12 Yrs</td>\n",
       "    </tr>\n",
       "    <tr>\n",
       "      <th>9</th>\n",
       "      <td>Business Analyst/Data Analyst</td>\n",
       "      <td>Hyderabad/Secunderabad, Bangalore/Bengaluru, D...</td>\n",
       "      <td>Telamon HR Solutions</td>\n",
       "      <td>3-5 Yrs</td>\n",
       "    </tr>\n",
       "  </tbody>\n",
       "</table>\n",
       "</div>"
      ],
      "text/plain": [
       "                                           Job Title  \\\n",
       "0  Senior Data Analyst - Data Modeling/Database D...   \n",
       "1                                       Data analyst   \n",
       "2                                       Data Analyst   \n",
       "3                             Financial Data Analyst   \n",
       "4                                       Data Analyst   \n",
       "5        OYO Rooms - Data Analyst / Business Analyst   \n",
       "6                          Data Analyst - Python/SQL   \n",
       "7                                  Data Analyst - IT   \n",
       "8                     Senior Data Analyst - Collibra   \n",
       "9                      Business Analyst/Data Analyst   \n",
       "\n",
       "                                            Location  \\\n",
       "0                                Bangalore/Bengaluru   \n",
       "1                                Bangalore/Bengaluru   \n",
       "2                                Bangalore/Bengaluru   \n",
       "3                                Bangalore/Bengaluru   \n",
       "4                                Bangalore/Bengaluru   \n",
       "5  Bangalore/Bengaluru, Delhi / NCR, Mumbai (All ...   \n",
       "6                                Bangalore/Bengaluru   \n",
       "7                                Bangalore/Bengaluru   \n",
       "8                                Bangalore/Bengaluru   \n",
       "9  Hyderabad/Secunderabad, Bangalore/Bengaluru, D...   \n",
       "\n",
       "                                      Company Name  Exprence  \n",
       "0                                K & R Enterprises   4-6 Yrs  \n",
       "1                                        GSK India   5-9 Yrs  \n",
       "2                                        GSK India  7-10 Yrs  \n",
       "3                                          Moody's   0-2 Yrs  \n",
       "4  Aldius Consulting Services Pvt Ltd (Paramantra)   0-2 Yrs  \n",
       "5                                         OyoRooms   2-6 Yrs  \n",
       "6                                           Affine   3-5 Yrs  \n",
       "7                                         Yespired   3-8 Yrs  \n",
       "8                                            Shell  8-12 Yrs  \n",
       "9                             Telamon HR Solutions   3-5 Yrs  "
      ]
     },
     "execution_count": 49,
     "metadata": {},
     "output_type": "execute_result"
    }
   ],
   "source": [
    "naukri_job = pd.DataFrame({'Job Title' : job_titles , 'Location': loc_titles , 'Company Name': comp_titles , 'Exprence' : expr_titles }) \n",
    "\n",
    "naukri_job.head(10)"
   ]
  },
  {
   "cell_type": "code",
   "execution_count": null,
   "id": "bcb18d52",
   "metadata": {},
   "outputs": [],
   "source": []
  },
  {
   "cell_type": "code",
   "execution_count": null,
   "id": "4cd9efbd",
   "metadata": {},
   "outputs": [],
   "source": []
  },
  {
   "cell_type": "markdown",
   "id": "a5af03b9",
   "metadata": {},
   "source": [
    "## Q - 2 : Write a python program to scrape data for “Data Scientist” Job position in “Bangalore” location"
   ]
  },
  {
   "cell_type": "code",
   "execution_count": 50,
   "id": "e52cd408",
   "metadata": {},
   "outputs": [],
   "source": [
    "url = 'https://www.naukri.com/'\n",
    "driver.get(url)"
   ]
  },
  {
   "cell_type": "code",
   "execution_count": 51,
   "id": "fac01b8d",
   "metadata": {},
   "outputs": [
    {
     "data": {
      "text/plain": [
       "<selenium.webdriver.remote.webelement.WebElement (session=\"e7323e81613187afd330af4a3e7ddfca\", element=\"557d9305-f6a9-4f65-8c52-3658cbbb4502\")>"
      ]
     },
     "execution_count": 51,
     "metadata": {},
     "output_type": "execute_result"
    }
   ],
   "source": [
    "#find the web element for search job bar using class name\n",
    "\n",
    "search_job = driver.find_element_by_xpath('/html/body/div/div[2]/div[3]/div/div/div[1]/div/div/div/input')\n",
    "search_job"
   ]
  },
  {
   "cell_type": "code",
   "execution_count": 52,
   "id": "375bf3cf",
   "metadata": {},
   "outputs": [],
   "source": [
    "search_job.send_keys(\"“Data Scientist\")"
   ]
  },
  {
   "cell_type": "code",
   "execution_count": 53,
   "id": "f741ee56",
   "metadata": {},
   "outputs": [
    {
     "data": {
      "text/plain": [
       "<selenium.webdriver.remote.webelement.WebElement (session=\"e7323e81613187afd330af4a3e7ddfca\", element=\"0f968db6-924a-439c-a022-223aa9eca0bd\")>"
      ]
     },
     "execution_count": 53,
     "metadata": {},
     "output_type": "execute_result"
    }
   ],
   "source": [
    "search_locn= driver.find_element_by_xpath('/html/body/div/div[2]/div[3]/div/div/div[3]/div/div/div/input')\n",
    "search_locn"
   ]
  },
  {
   "cell_type": "code",
   "execution_count": 55,
   "id": "b6bf0789",
   "metadata": {},
   "outputs": [],
   "source": [
    "search_locn.send_keys(\"Bangalore\")"
   ]
  },
  {
   "cell_type": "code",
   "execution_count": 56,
   "id": "9c9eea7d",
   "metadata": {},
   "outputs": [
    {
     "data": {
      "text/plain": [
       "<selenium.webdriver.remote.webelement.WebElement (session=\"e7323e81613187afd330af4a3e7ddfca\", element=\"7b101060-77ad-414e-b63e-aa52787ac297\")>"
      ]
     },
     "execution_count": 56,
     "metadata": {},
     "output_type": "execute_result"
    }
   ],
   "source": [
    "search_btn= driver.find_element_by_class_name(\"qsbSubmit\")\n",
    "search_btn"
   ]
  },
  {
   "cell_type": "code",
   "execution_count": 57,
   "id": "eff26e0f",
   "metadata": {},
   "outputs": [],
   "source": [
    "search_btn.click()"
   ]
  },
  {
   "cell_type": "markdown",
   "id": "844996db",
   "metadata": {},
   "source": [
    "## Extracting job-title"
   ]
  },
  {
   "cell_type": "code",
   "execution_count": 58,
   "id": "1a7f35a1",
   "metadata": {},
   "outputs": [
    {
     "data": {
      "text/plain": [
       "20"
      ]
     },
     "execution_count": 58,
     "metadata": {},
     "output_type": "execute_result"
    }
   ],
   "source": [
    "title_tag = driver.find_elements_by_xpath('//a[@class=\"title fw500 ellipsis\"]')\n",
    "len(title_tag)"
   ]
  },
  {
   "cell_type": "code",
   "execution_count": 59,
   "id": "3674df1b",
   "metadata": {},
   "outputs": [
    {
     "data": {
      "text/plain": [
       "['Global Tax Automation & Operations - Data Scientist Senior Analyst',\n",
       " 'Lead Data Scientist - Machine Learning/ Data Mining',\n",
       " 'Opportunity For Data Scientist Internship - Bengaluru',\n",
       " 'Louis Dreyfus Company Looking For Data Scientist',\n",
       " 'GSC Operational Analytics Data Scientist',\n",
       " 'Data Scientist: Artificial Intelligence',\n",
       " 'Senior Data Scientist/Data Scientist',\n",
       " 'Data Scientist - Python/ MATLAB/ Machine Learning Algorithms',\n",
       " 'Data Scientist - Lead / Architect - Looking For Early Joiners - Wipro',\n",
       " 'Lead Data Scientist',\n",
       " 'Lead Data Scientist',\n",
       " 'Lead Data Scientist',\n",
       " 'Sr. Data Scientist',\n",
       " 'Senior Data Scientist / Tech Lead - SQL / Python / Big Data',\n",
       " 'Senior Data Scientist/Tech Lead - SQL/Python/Big Data',\n",
       " 'Data Scientist / ML Engineer',\n",
       " 'Data Scientist - Lead / Architect - Looking For Early Joiners - Wipro',\n",
       " 'Data Scientist - Lead / Architect - Looking For Early Joiners - Wipro',\n",
       " 'Sr Data Scientist',\n",
       " 'Data Scientist / Analyst']"
      ]
     },
     "execution_count": 59,
     "metadata": {},
     "output_type": "execute_result"
    }
   ],
   "source": [
    "\n",
    "job_titles = []\n",
    "\n",
    "for i in title_tag :\n",
    "    job_titles.append(i.text)\n",
    "    \n",
    "job_titles    "
   ]
  },
  {
   "cell_type": "markdown",
   "id": "ad83d946",
   "metadata": {},
   "source": [
    "## Extracting  job-location"
   ]
  },
  {
   "cell_type": "code",
   "execution_count": 62,
   "id": "a04ca373",
   "metadata": {},
   "outputs": [
    {
     "data": {
      "text/plain": [
       "20"
      ]
     },
     "execution_count": 62,
     "metadata": {},
     "output_type": "execute_result"
    }
   ],
   "source": [
    "loc_tags= driver.find_elements_by_xpath('//li[@class=\"fleft grey-text br2 placeHolderLi location\"]')\n",
    "len(loc_tags)"
   ]
  },
  {
   "cell_type": "code",
   "execution_count": 63,
   "id": "094feaf3",
   "metadata": {},
   "outputs": [
    {
     "data": {
      "text/plain": [
       "['Bangalore/Bengaluru',\n",
       " 'Bangalore/Bengaluru',\n",
       " 'Indore, Bangalore/Bengaluru\\n(WFH during Covid)',\n",
       " 'Bangalore/Bengaluru',\n",
       " 'Bangalore/Bengaluru',\n",
       " 'Bangalore/Bengaluru',\n",
       " 'Gurgaon/Gurugram, Chennai, Bangalore/Bengaluru',\n",
       " 'Bangalore/Bengaluru',\n",
       " 'Kochi/Cochin, Kolkata, Pune, Gurgaon/Gurugram, Chennai, Coimbatore, Bangalore/Bengaluru, Mumbai (All Areas), Hyderabad',\n",
       " 'Hyderabad/Secunderabad, Bangalore/Bengaluru, Delhi / NCR\\n(WFH during Covid)',\n",
       " 'Bangalore/Bengaluru',\n",
       " 'Bangalore/Bengaluru, Delhi / NCR, Mumbai (All Areas)\\n(WFH during Covid)',\n",
       " 'Bangalore/Bengaluru',\n",
       " 'Pune, Chennai, Bangalore/Bengaluru',\n",
       " 'Pune, Chennai, Bangalore/Bengaluru',\n",
       " 'Noida, Kota, Mumbai, Chandigarh, Lucknow, Agra, Gurgaon/Gurugram, Jaipur, Bangalore/Bengaluru',\n",
       " 'Hyderabad/Secunderabad, Pune, Chennai, Bangalore/Bengaluru',\n",
       " 'Kochi/Cochin, Kolkata, Pune, Gurgaon/Gurugram, Chennai, Coimbatore, Bangalore/Bengaluru, Mumbai (All Areas), Hyderabad',\n",
       " 'Bangalore/Bengaluru\\n(WFH during Covid)',\n",
       " 'Hyderabad/Secunderabad, Bangalore/Bengaluru, Delhi / NCR']"
      ]
     },
     "execution_count": 63,
     "metadata": {},
     "output_type": "execute_result"
    }
   ],
   "source": [
    "loc_titles = []\n",
    "\n",
    "for l in loc_tags:\n",
    "    loc_titles.append(l.text)\n",
    "    \n",
    "loc_titles    "
   ]
  },
  {
   "cell_type": "markdown",
   "id": "b24ab778",
   "metadata": {},
   "source": [
    "## Extracting company_name"
   ]
  },
  {
   "cell_type": "code",
   "execution_count": 64,
   "id": "6991e008",
   "metadata": {},
   "outputs": [
    {
     "data": {
      "text/plain": [
       "20"
      ]
     },
     "execution_count": 64,
     "metadata": {},
     "output_type": "execute_result"
    }
   ],
   "source": [
    "comp_tags = driver.find_elements_by_xpath('//a[@class = \"subTitle ellipsis fleft\"]')\n",
    "len(comp_tags)"
   ]
  },
  {
   "cell_type": "code",
   "execution_count": 65,
   "id": "b7f93331",
   "metadata": {},
   "outputs": [
    {
     "data": {
      "text/plain": [
       "['Dell',\n",
       " 'Wrackle Technologies Pvt Ltd',\n",
       " 'Corner Stone Solutions',\n",
       " 'Louis Dreyfus Commodities',\n",
       " 'Intel',\n",
       " 'IBM',\n",
       " 'Tredence Analytics Solutions Private Limited',\n",
       " 'Wrackle Technologies Pvt Ltd',\n",
       " 'Wipro',\n",
       " 'NAVIKENZ INDIA PRIVATE LIMITED',\n",
       " 'Vmware',\n",
       " 'TransOrg Solutions Services (P) Ltd.',\n",
       " 'Easy Recruit',\n",
       " 'Exploro Solutions',\n",
       " 'Exploro Solutions',\n",
       " 'AVE-Promagne',\n",
       " 'Wipro',\n",
       " 'Wipro',\n",
       " 'Fragma data systems pvt ltd',\n",
       " 'Talentify']"
      ]
     },
     "execution_count": 65,
     "metadata": {},
     "output_type": "execute_result"
    }
   ],
   "source": [
    "comp_titles = []\n",
    "\n",
    "for c in comp_tags:\n",
    "    comp_titles.append(c.text)\n",
    "    \n",
    "comp_titles  "
   ]
  },
  {
   "cell_type": "code",
   "execution_count": 66,
   "id": "51845d47",
   "metadata": {},
   "outputs": [
    {
     "data": {
      "text/html": [
       "<div>\n",
       "<style scoped>\n",
       "    .dataframe tbody tr th:only-of-type {\n",
       "        vertical-align: middle;\n",
       "    }\n",
       "\n",
       "    .dataframe tbody tr th {\n",
       "        vertical-align: top;\n",
       "    }\n",
       "\n",
       "    .dataframe thead th {\n",
       "        text-align: right;\n",
       "    }\n",
       "</style>\n",
       "<table border=\"1\" class=\"dataframe\">\n",
       "  <thead>\n",
       "    <tr style=\"text-align: right;\">\n",
       "      <th></th>\n",
       "      <th>Job Title</th>\n",
       "      <th>Location</th>\n",
       "      <th>Company Name</th>\n",
       "    </tr>\n",
       "  </thead>\n",
       "  <tbody>\n",
       "    <tr>\n",
       "      <th>0</th>\n",
       "      <td>Global Tax Automation &amp; Operations - Data Scie...</td>\n",
       "      <td>Bangalore/Bengaluru</td>\n",
       "      <td>Dell</td>\n",
       "    </tr>\n",
       "    <tr>\n",
       "      <th>1</th>\n",
       "      <td>Lead Data Scientist - Machine Learning/ Data M...</td>\n",
       "      <td>Bangalore/Bengaluru</td>\n",
       "      <td>Wrackle Technologies Pvt Ltd</td>\n",
       "    </tr>\n",
       "    <tr>\n",
       "      <th>2</th>\n",
       "      <td>Opportunity For Data Scientist Internship - Be...</td>\n",
       "      <td>Indore, Bangalore/Bengaluru\\n(WFH during Covid)</td>\n",
       "      <td>Corner Stone Solutions</td>\n",
       "    </tr>\n",
       "    <tr>\n",
       "      <th>3</th>\n",
       "      <td>Louis Dreyfus Company Looking For Data Scientist</td>\n",
       "      <td>Bangalore/Bengaluru</td>\n",
       "      <td>Louis Dreyfus Commodities</td>\n",
       "    </tr>\n",
       "    <tr>\n",
       "      <th>4</th>\n",
       "      <td>GSC Operational Analytics Data Scientist</td>\n",
       "      <td>Bangalore/Bengaluru</td>\n",
       "      <td>Intel</td>\n",
       "    </tr>\n",
       "    <tr>\n",
       "      <th>5</th>\n",
       "      <td>Data Scientist: Artificial Intelligence</td>\n",
       "      <td>Bangalore/Bengaluru</td>\n",
       "      <td>IBM</td>\n",
       "    </tr>\n",
       "    <tr>\n",
       "      <th>6</th>\n",
       "      <td>Senior Data Scientist/Data Scientist</td>\n",
       "      <td>Gurgaon/Gurugram, Chennai, Bangalore/Bengaluru</td>\n",
       "      <td>Tredence Analytics Solutions Private Limited</td>\n",
       "    </tr>\n",
       "    <tr>\n",
       "      <th>7</th>\n",
       "      <td>Data Scientist - Python/ MATLAB/ Machine Learn...</td>\n",
       "      <td>Bangalore/Bengaluru</td>\n",
       "      <td>Wrackle Technologies Pvt Ltd</td>\n",
       "    </tr>\n",
       "    <tr>\n",
       "      <th>8</th>\n",
       "      <td>Data Scientist - Lead / Architect - Looking Fo...</td>\n",
       "      <td>Kochi/Cochin, Kolkata, Pune, Gurgaon/Gurugram,...</td>\n",
       "      <td>Wipro</td>\n",
       "    </tr>\n",
       "    <tr>\n",
       "      <th>9</th>\n",
       "      <td>Lead Data Scientist</td>\n",
       "      <td>Hyderabad/Secunderabad, Bangalore/Bengaluru, D...</td>\n",
       "      <td>NAVIKENZ INDIA PRIVATE LIMITED</td>\n",
       "    </tr>\n",
       "  </tbody>\n",
       "</table>\n",
       "</div>"
      ],
      "text/plain": [
       "                                           Job Title  \\\n",
       "0  Global Tax Automation & Operations - Data Scie...   \n",
       "1  Lead Data Scientist - Machine Learning/ Data M...   \n",
       "2  Opportunity For Data Scientist Internship - Be...   \n",
       "3   Louis Dreyfus Company Looking For Data Scientist   \n",
       "4           GSC Operational Analytics Data Scientist   \n",
       "5            Data Scientist: Artificial Intelligence   \n",
       "6               Senior Data Scientist/Data Scientist   \n",
       "7  Data Scientist - Python/ MATLAB/ Machine Learn...   \n",
       "8  Data Scientist - Lead / Architect - Looking Fo...   \n",
       "9                                Lead Data Scientist   \n",
       "\n",
       "                                            Location  \\\n",
       "0                                Bangalore/Bengaluru   \n",
       "1                                Bangalore/Bengaluru   \n",
       "2    Indore, Bangalore/Bengaluru\\n(WFH during Covid)   \n",
       "3                                Bangalore/Bengaluru   \n",
       "4                                Bangalore/Bengaluru   \n",
       "5                                Bangalore/Bengaluru   \n",
       "6     Gurgaon/Gurugram, Chennai, Bangalore/Bengaluru   \n",
       "7                                Bangalore/Bengaluru   \n",
       "8  Kochi/Cochin, Kolkata, Pune, Gurgaon/Gurugram,...   \n",
       "9  Hyderabad/Secunderabad, Bangalore/Bengaluru, D...   \n",
       "\n",
       "                                   Company Name  \n",
       "0                                          Dell  \n",
       "1                  Wrackle Technologies Pvt Ltd  \n",
       "2                        Corner Stone Solutions  \n",
       "3                     Louis Dreyfus Commodities  \n",
       "4                                         Intel  \n",
       "5                                           IBM  \n",
       "6  Tredence Analytics Solutions Private Limited  \n",
       "7                  Wrackle Technologies Pvt Ltd  \n",
       "8                                         Wipro  \n",
       "9                NAVIKENZ INDIA PRIVATE LIMITED  "
      ]
     },
     "execution_count": 66,
     "metadata": {},
     "output_type": "execute_result"
    }
   ],
   "source": [
    "naukri_job = pd.DataFrame({'Job Title' : job_titles , 'Location': loc_titles , 'Company Name': comp_titles }) \n",
    "\n",
    "naukri_job.head(10)"
   ]
  },
  {
   "cell_type": "code",
   "execution_count": null,
   "id": "0f837945",
   "metadata": {},
   "outputs": [],
   "source": []
  },
  {
   "cell_type": "markdown",
   "id": "87abb606",
   "metadata": {},
   "source": [
    "## Q - 3"
   ]
  },
  {
   "cell_type": "code",
   "execution_count": 67,
   "id": "5fbe6d6c",
   "metadata": {},
   "outputs": [],
   "source": [
    "url = 'https://www.naukri.com/'\n",
    "driver.get(url)"
   ]
  },
  {
   "cell_type": "code",
   "execution_count": 68,
   "id": "90349ba7",
   "metadata": {},
   "outputs": [
    {
     "data": {
      "text/plain": [
       "<selenium.webdriver.remote.webelement.WebElement (session=\"e7323e81613187afd330af4a3e7ddfca\", element=\"3782150e-a975-4928-a51c-ae0efde450ec\")>"
      ]
     },
     "execution_count": 68,
     "metadata": {},
     "output_type": "execute_result"
    }
   ],
   "source": [
    "#find the web element for search job bar using class name\n",
    "\n",
    "search_job = driver.find_element_by_xpath('/html/body/div/div[2]/div[3]/div/div/div[1]/div/div/div/input')\n",
    "search_job"
   ]
  },
  {
   "cell_type": "code",
   "execution_count": 69,
   "id": "1ab6be48",
   "metadata": {},
   "outputs": [],
   "source": [
    "search_job.send_keys(\"“Data Scientist\")"
   ]
  },
  {
   "cell_type": "code",
   "execution_count": 70,
   "id": "58d28bb8",
   "metadata": {},
   "outputs": [
    {
     "data": {
      "text/plain": [
       "<selenium.webdriver.remote.webelement.WebElement (session=\"e7323e81613187afd330af4a3e7ddfca\", element=\"4f04b1ea-6084-46cc-aa37-86c820a245df\")>"
      ]
     },
     "execution_count": 70,
     "metadata": {},
     "output_type": "execute_result"
    }
   ],
   "source": [
    "search_locn = driver.find_element_by_xpath('/html/body/div/div[2]/div[3]/div/div/div[3]/div/div/div/input')\n",
    "search_locn"
   ]
  },
  {
   "cell_type": "code",
   "execution_count": 71,
   "id": "4857f6de",
   "metadata": {},
   "outputs": [],
   "source": [
    "search_locn.send_keys(\"Delhi/NCR\")"
   ]
  },
  {
   "cell_type": "code",
   "execution_count": 72,
   "id": "2d2c3d82",
   "metadata": {},
   "outputs": [
    {
     "data": {
      "text/plain": [
       "<selenium.webdriver.remote.webelement.WebElement (session=\"e7323e81613187afd330af4a3e7ddfca\", element=\"716ed22a-9943-4d77-8f3b-279a903648e5\")>"
      ]
     },
     "execution_count": 72,
     "metadata": {},
     "output_type": "execute_result"
    }
   ],
   "source": [
    "search_btn = driver.find_element_by_class_name(\"qsbSubmit\")\n",
    "search_btn"
   ]
  },
  {
   "cell_type": "code",
   "execution_count": 73,
   "id": "41517948",
   "metadata": {},
   "outputs": [],
   "source": [
    "search_btn.click()"
   ]
  },
  {
   "cell_type": "code",
   "execution_count": 74,
   "id": "381a9fbd",
   "metadata": {},
   "outputs": [
    {
     "data": {
      "text/plain": [
       "<selenium.webdriver.remote.webelement.WebElement (session=\"e7323e81613187afd330af4a3e7ddfca\", element=\"d4c672df-1cac-456d-aeaf-806a2bc5caf6\")>"
      ]
     },
     "execution_count": 74,
     "metadata": {},
     "output_type": "execute_result"
    }
   ],
   "source": [
    "search_sal = driver.find_element_by_xpath('/html/body/div[1]/div[3]/div[2]/section[1]/div[2]/div[4]/div[2]/div[2]/label/i')\n",
    "search_sal"
   ]
  },
  {
   "cell_type": "code",
   "execution_count": 75,
   "id": "28a4c49f",
   "metadata": {},
   "outputs": [],
   "source": [
    "search_sal.click()"
   ]
  },
  {
   "cell_type": "markdown",
   "id": "0efd8154",
   "metadata": {},
   "source": [
    "## Extracting Job_titles"
   ]
  },
  {
   "cell_type": "code",
   "execution_count": 76,
   "id": "d606b83d",
   "metadata": {},
   "outputs": [
    {
     "data": {
      "text/plain": [
       "20"
      ]
     },
     "execution_count": 76,
     "metadata": {},
     "output_type": "execute_result"
    }
   ],
   "source": [
    "title_tag = driver.find_elements_by_xpath('//a[@class=\"title fw500 ellipsis\"]')\n",
    "len(title_tag)"
   ]
  },
  {
   "cell_type": "code",
   "execution_count": 77,
   "id": "94e2183d",
   "metadata": {},
   "outputs": [
    {
     "data": {
      "text/plain": [
       "['Data Scientist',\n",
       " 'Data Scientist',\n",
       " 'Data Scientist | A Fintech Organisation',\n",
       " 'Opening For Data Scientist',\n",
       " 'Data Scientist',\n",
       " 'Data Scientist-Onsite and offshore',\n",
       " 'Data & Applied Scientist',\n",
       " 'Data and applied Scientist',\n",
       " 'Data Scientist',\n",
       " 'Urgent Requirement || Data Scientist || Noida',\n",
       " 'Senior Data Scientist',\n",
       " 'Data Scientist II',\n",
       " 'Data Scientist',\n",
       " 'Data Scientist',\n",
       " 'Lead Data Scientist - KYC/Fraud/Marketing',\n",
       " 'Data Scientist',\n",
       " 'Data Scientist',\n",
       " 'Data Scientist',\n",
       " 'Data Scientist',\n",
       " 'Associate Data Scientist']"
      ]
     },
     "execution_count": 77,
     "metadata": {},
     "output_type": "execute_result"
    }
   ],
   "source": [
    "\n",
    "job_titles = []\n",
    "\n",
    "for i in title_tag :\n",
    "    job_titles.append(i.text)\n",
    "    \n",
    "job_titles    "
   ]
  },
  {
   "cell_type": "markdown",
   "id": "5e823330",
   "metadata": {},
   "source": [
    "## Extracting job_location"
   ]
  },
  {
   "cell_type": "code",
   "execution_count": 78,
   "id": "48600615",
   "metadata": {},
   "outputs": [
    {
     "data": {
      "text/plain": [
       "20"
      ]
     },
     "execution_count": 78,
     "metadata": {},
     "output_type": "execute_result"
    }
   ],
   "source": [
    "loc_tags= driver.find_elements_by_xpath('//li[@class=\"fleft grey-text br2 placeHolderLi location\"]')\n",
    "len(loc_tags)"
   ]
  },
  {
   "cell_type": "code",
   "execution_count": 79,
   "id": "e178a145",
   "metadata": {},
   "outputs": [
    {
     "data": {
      "text/plain": [
       "['New Delhi',\n",
       " 'Gurgaon/Gurugram, Chennai\\n(WFH during Covid)',\n",
       " 'Gurgaon/Gurugram',\n",
       " 'Gurgaon/Gurugram',\n",
       " 'Kolkata, Hyderabad/Secunderabad, Pune, Chennai, Bangalore/Bengaluru, Delhi / NCR',\n",
       " 'Hyderabad/Secunderabad, Pune, Chennai, Bangalore/Bengaluru, Delhi / NCR, Mumbai (All Areas)',\n",
       " 'Noida, Hyderabad/Secunderabad, Bangalore/Bengaluru',\n",
       " 'Noida, Hyderabad/Secunderabad, Bangalore/Bengaluru',\n",
       " 'New Delhi, Delhi / NCR, Mumbai (All Areas)',\n",
       " 'Noida, Delhi / NCR',\n",
       " 'Delhi',\n",
       " 'Delhi / NCR',\n",
       " 'New Delhi',\n",
       " 'Noida',\n",
       " 'New Delhi',\n",
       " 'Gurgaon, Bengaluru',\n",
       " 'Bharuch, Jaipur, Bhopal, Mumbai, Jhansi, Nagpur, Ghaziabad, Jaunpur, Kanpur, Delhi, Lucknow, Agra, Gurgaon, Rajkot, Bengaluru',\n",
       " 'Delhi',\n",
       " 'Delhi',\n",
       " 'Noida']"
      ]
     },
     "execution_count": 79,
     "metadata": {},
     "output_type": "execute_result"
    }
   ],
   "source": [
    "loc_titles = []\n",
    "\n",
    "for l in loc_tags:\n",
    "    loc_titles.append(l.text)\n",
    "    \n",
    "loc_titles    "
   ]
  },
  {
   "cell_type": "markdown",
   "id": "85e899a5",
   "metadata": {},
   "source": [
    "## Extracting company_name"
   ]
  },
  {
   "cell_type": "code",
   "execution_count": 80,
   "id": "9da4d2e1",
   "metadata": {},
   "outputs": [
    {
     "data": {
      "text/plain": [
       "20"
      ]
     },
     "execution_count": 80,
     "metadata": {},
     "output_type": "execute_result"
    }
   ],
   "source": [
    "comp_tags = driver.find_elements_by_xpath('//a[@class = \"subTitle ellipsis fleft\"]')\n",
    "len(comp_tags)"
   ]
  },
  {
   "cell_type": "code",
   "execution_count": 81,
   "id": "1bc7bbab",
   "metadata": {},
   "outputs": [
    {
     "data": {
      "text/plain": [
       "['CHANGE LEADERS CONSULTING',\n",
       " 'DECISION POINT PRIVATE LIMITED',\n",
       " 'Vision Beyond Resources India Private Limited',\n",
       " 'Care Health Insurance',\n",
       " 'Alp Consulting Limited',\n",
       " 'PROKXIMITY',\n",
       " 'Microsoft',\n",
       " 'Microsoft',\n",
       " 'Cloudstrats Technologies Private Limited',\n",
       " 'HCL',\n",
       " 'iNICU',\n",
       " 'Chegg',\n",
       " 'Boston Consulting Group',\n",
       " 'Stefanini',\n",
       " 'Tide Software',\n",
       " 'BlackBuck',\n",
       " 'Country Veggie',\n",
       " 'Mahajan Imaging',\n",
       " 'Mahajan Imaging',\n",
       " 'Right Step Consulting']"
      ]
     },
     "execution_count": 81,
     "metadata": {},
     "output_type": "execute_result"
    }
   ],
   "source": [
    "comp_titles = []\n",
    "\n",
    "for c in comp_tags:\n",
    "    comp_titles.append(c.text)\n",
    "    \n",
    "comp_titles  "
   ]
  },
  {
   "cell_type": "markdown",
   "id": "0e374897",
   "metadata": {},
   "source": [
    "## Extracting experience_required"
   ]
  },
  {
   "cell_type": "code",
   "execution_count": 82,
   "id": "7c25af9f",
   "metadata": {},
   "outputs": [
    {
     "data": {
      "text/plain": [
       "20"
      ]
     },
     "execution_count": 82,
     "metadata": {},
     "output_type": "execute_result"
    }
   ],
   "source": [
    "expr_tags= driver.find_elements_by_xpath('//li[@class=\"fleft grey-text br2 placeHolderLi experience\"]')\n",
    "len(expr_tags)"
   ]
  },
  {
   "cell_type": "code",
   "execution_count": 84,
   "id": "f93602c9",
   "metadata": {},
   "outputs": [
    {
     "data": {
      "text/plain": [
       "['3-8 Yrs',\n",
       " '1-6 Yrs',\n",
       " '2-7 Yrs',\n",
       " '1-5 Yrs',\n",
       " '1-6 Yrs',\n",
       " '3-8 Yrs',\n",
       " '3-7 Yrs',\n",
       " '3-7 Yrs',\n",
       " '3-5 Yrs',\n",
       " '3-8 Yrs',\n",
       " '1-5 Yrs',\n",
       " '2-6 Yrs',\n",
       " '2-5 Yrs',\n",
       " '3-8 Yrs',\n",
       " '1-6 Yrs',\n",
       " '3-7 Yrs',\n",
       " '1-3 Yrs',\n",
       " '2-6 Yrs',\n",
       " '2-6 Yrs',\n",
       " '3-6 Yrs']"
      ]
     },
     "execution_count": 84,
     "metadata": {},
     "output_type": "execute_result"
    }
   ],
   "source": [
    "expr_titles = []\n",
    "\n",
    "for e in expr_tags:\n",
    "    expr_titles.append(e.text)\n",
    "\n",
    "expr_titles    "
   ]
  },
  {
   "cell_type": "code",
   "execution_count": 85,
   "id": "bed68a42",
   "metadata": {},
   "outputs": [
    {
     "data": {
      "text/html": [
       "<div>\n",
       "<style scoped>\n",
       "    .dataframe tbody tr th:only-of-type {\n",
       "        vertical-align: middle;\n",
       "    }\n",
       "\n",
       "    .dataframe tbody tr th {\n",
       "        vertical-align: top;\n",
       "    }\n",
       "\n",
       "    .dataframe thead th {\n",
       "        text-align: right;\n",
       "    }\n",
       "</style>\n",
       "<table border=\"1\" class=\"dataframe\">\n",
       "  <thead>\n",
       "    <tr style=\"text-align: right;\">\n",
       "      <th></th>\n",
       "      <th>Job Title</th>\n",
       "      <th>Location</th>\n",
       "      <th>Company Name</th>\n",
       "      <th>Exprence</th>\n",
       "    </tr>\n",
       "  </thead>\n",
       "  <tbody>\n",
       "    <tr>\n",
       "      <th>0</th>\n",
       "      <td>Data Scientist</td>\n",
       "      <td>New Delhi</td>\n",
       "      <td>CHANGE LEADERS CONSULTING</td>\n",
       "      <td>3-8 Yrs</td>\n",
       "    </tr>\n",
       "    <tr>\n",
       "      <th>1</th>\n",
       "      <td>Data Scientist</td>\n",
       "      <td>Gurgaon/Gurugram, Chennai\\n(WFH during Covid)</td>\n",
       "      <td>DECISION POINT PRIVATE LIMITED</td>\n",
       "      <td>1-6 Yrs</td>\n",
       "    </tr>\n",
       "    <tr>\n",
       "      <th>2</th>\n",
       "      <td>Data Scientist | A Fintech Organisation</td>\n",
       "      <td>Gurgaon/Gurugram</td>\n",
       "      <td>Vision Beyond Resources India Private Limited</td>\n",
       "      <td>2-7 Yrs</td>\n",
       "    </tr>\n",
       "    <tr>\n",
       "      <th>3</th>\n",
       "      <td>Opening For Data Scientist</td>\n",
       "      <td>Gurgaon/Gurugram</td>\n",
       "      <td>Care Health Insurance</td>\n",
       "      <td>1-5 Yrs</td>\n",
       "    </tr>\n",
       "    <tr>\n",
       "      <th>4</th>\n",
       "      <td>Data Scientist</td>\n",
       "      <td>Kolkata, Hyderabad/Secunderabad, Pune, Chennai...</td>\n",
       "      <td>Alp Consulting Limited</td>\n",
       "      <td>1-6 Yrs</td>\n",
       "    </tr>\n",
       "    <tr>\n",
       "      <th>5</th>\n",
       "      <td>Data Scientist-Onsite and offshore</td>\n",
       "      <td>Hyderabad/Secunderabad, Pune, Chennai, Bangalo...</td>\n",
       "      <td>PROKXIMITY</td>\n",
       "      <td>3-8 Yrs</td>\n",
       "    </tr>\n",
       "    <tr>\n",
       "      <th>6</th>\n",
       "      <td>Data &amp; Applied Scientist</td>\n",
       "      <td>Noida, Hyderabad/Secunderabad, Bangalore/Benga...</td>\n",
       "      <td>Microsoft</td>\n",
       "      <td>3-7 Yrs</td>\n",
       "    </tr>\n",
       "    <tr>\n",
       "      <th>7</th>\n",
       "      <td>Data and applied Scientist</td>\n",
       "      <td>Noida, Hyderabad/Secunderabad, Bangalore/Benga...</td>\n",
       "      <td>Microsoft</td>\n",
       "      <td>3-7 Yrs</td>\n",
       "    </tr>\n",
       "    <tr>\n",
       "      <th>8</th>\n",
       "      <td>Data Scientist</td>\n",
       "      <td>New Delhi, Delhi / NCR, Mumbai (All Areas)</td>\n",
       "      <td>Cloudstrats Technologies Private Limited</td>\n",
       "      <td>3-5 Yrs</td>\n",
       "    </tr>\n",
       "    <tr>\n",
       "      <th>9</th>\n",
       "      <td>Urgent Requirement || Data Scientist || Noida</td>\n",
       "      <td>Noida, Delhi / NCR</td>\n",
       "      <td>HCL</td>\n",
       "      <td>3-8 Yrs</td>\n",
       "    </tr>\n",
       "  </tbody>\n",
       "</table>\n",
       "</div>"
      ],
      "text/plain": [
       "                                       Job Title  \\\n",
       "0                                 Data Scientist   \n",
       "1                                 Data Scientist   \n",
       "2        Data Scientist | A Fintech Organisation   \n",
       "3                     Opening For Data Scientist   \n",
       "4                                 Data Scientist   \n",
       "5             Data Scientist-Onsite and offshore   \n",
       "6                       Data & Applied Scientist   \n",
       "7                     Data and applied Scientist   \n",
       "8                                 Data Scientist   \n",
       "9  Urgent Requirement || Data Scientist || Noida   \n",
       "\n",
       "                                            Location  \\\n",
       "0                                          New Delhi   \n",
       "1      Gurgaon/Gurugram, Chennai\\n(WFH during Covid)   \n",
       "2                                   Gurgaon/Gurugram   \n",
       "3                                   Gurgaon/Gurugram   \n",
       "4  Kolkata, Hyderabad/Secunderabad, Pune, Chennai...   \n",
       "5  Hyderabad/Secunderabad, Pune, Chennai, Bangalo...   \n",
       "6  Noida, Hyderabad/Secunderabad, Bangalore/Benga...   \n",
       "7  Noida, Hyderabad/Secunderabad, Bangalore/Benga...   \n",
       "8         New Delhi, Delhi / NCR, Mumbai (All Areas)   \n",
       "9                                 Noida, Delhi / NCR   \n",
       "\n",
       "                                    Company Name Exprence  \n",
       "0                      CHANGE LEADERS CONSULTING  3-8 Yrs  \n",
       "1                 DECISION POINT PRIVATE LIMITED  1-6 Yrs  \n",
       "2  Vision Beyond Resources India Private Limited  2-7 Yrs  \n",
       "3                          Care Health Insurance  1-5 Yrs  \n",
       "4                         Alp Consulting Limited  1-6 Yrs  \n",
       "5                                     PROKXIMITY  3-8 Yrs  \n",
       "6                                      Microsoft  3-7 Yrs  \n",
       "7                                      Microsoft  3-7 Yrs  \n",
       "8       Cloudstrats Technologies Private Limited  3-5 Yrs  \n",
       "9                                            HCL  3-8 Yrs  "
      ]
     },
     "execution_count": 85,
     "metadata": {},
     "output_type": "execute_result"
    }
   ],
   "source": [
    "naukri_job = pd.DataFrame({'Job Title' : job_titles , 'Location': loc_titles , 'Company Name': comp_titles , 'Exprence' : expr_titles }) \n",
    "\n",
    "naukri_job.head(10)"
   ]
  },
  {
   "cell_type": "code",
   "execution_count": null,
   "id": "5311d7d2",
   "metadata": {},
   "outputs": [],
   "source": []
  },
  {
   "cell_type": "markdown",
   "id": "eb1ff247",
   "metadata": {},
   "source": [
    "## Q - 4 : Scrape data of first 100 sunglasses listings on flipkart.com"
   ]
  },
  {
   "cell_type": "code",
   "execution_count": 8,
   "id": "5575de0c",
   "metadata": {},
   "outputs": [],
   "source": [
    "import selenium\n",
    "from selenium import webdriver\n",
    "import pandas as pd\n",
    "import warnings\n",
    "warnings.filterwarnings(\"ignore\")"
   ]
  },
  {
   "cell_type": "code",
   "execution_count": 9,
   "id": "8d07fab4",
   "metadata": {},
   "outputs": [],
   "source": [
    "driver = webdriver.Chrome(r'C:\\Users\\Wystre\\Desktop\\chromedriver.exe')"
   ]
  },
  {
   "cell_type": "code",
   "execution_count": 10,
   "id": "e9c1d060",
   "metadata": {},
   "outputs": [],
   "source": [
    "url1 = 'http://www.flipkart.com/'\n",
    "driver.get(url1)"
   ]
  },
  {
   "cell_type": "code",
   "execution_count": 11,
   "id": "ca3d9c71",
   "metadata": {},
   "outputs": [],
   "source": [
    "search_item= driver.find_element_by_xpath('/html/body/div[1]/div/div[1]/div[1]/div[2]/div[2]/form/div/div/input')\n",
    "search_item.send_keys(\"Sunglasses\")"
   ]
  },
  {
   "cell_type": "code",
   "execution_count": 12,
   "id": "766f795b",
   "metadata": {},
   "outputs": [
    {
     "data": {
      "text/plain": [
       "<selenium.webdriver.remote.webelement.WebElement (session=\"e42067b0be3037a96e796ff68b4fdbb9\", element=\"d2905871-e19e-4194-8c26-3bc23593ee82\")>"
      ]
     },
     "execution_count": 12,
     "metadata": {},
     "output_type": "execute_result"
    }
   ],
   "source": [
    "search_btn= driver.find_element_by_class_name('L0Z3Pu')\n",
    "search_btn"
   ]
  },
  {
   "cell_type": "code",
   "execution_count": 13,
   "id": "7864b898",
   "metadata": {},
   "outputs": [],
   "source": [
    "search_btn.click()"
   ]
  },
  {
   "cell_type": "code",
   "execution_count": 20,
   "id": "39edc96a",
   "metadata": {},
   "outputs": [],
   "source": [
    "page_url = []\n",
    "\n",
    "url = driver.find_elements_by_xpath(\"//nav[@class='yFHi8N']//a\")\n",
    "for i in url:\n",
    "    page_url.append(i.get_attribute('href'))\n",
    "page_url=page_url[0:3]"
   ]
  },
  {
   "cell_type": "code",
   "execution_count": 22,
   "id": "dc505478",
   "metadata": {},
   "outputs": [],
   "source": [
    "brand = []\n",
    "Description = []\n",
    "Price = []\n",
    "\n",
    "\n",
    "for i in page_url:\n",
    "    driver.get(i)\n",
    "    titles_brand = driver.find_elements_by_xpath(\"//div[@class='_2WkVRV']\")\n",
    "    for i in titles_brand:\n",
    "        brand.append(i.text)\n",
    "        \n",
    "        \n",
    "    titles_Description = driver.find_elements_by_xpath(\"//a[@class='IRpwTa']\")\n",
    "    for i in titles_Description:\n",
    "        Description.append(i.text)\n",
    "        \n",
    "        \n",
    "    titles_Price =driver.find_elements_by_xpath(\"//div[@class='_30jeq3']\")\n",
    "    for i in titles_Price:\n",
    "        Price.append(i.text.replace(\"₹\",\"\"))\n",
    "        \n",
    "        "
   ]
  },
  {
   "cell_type": "code",
   "execution_count": 26,
   "id": "dcb01d12",
   "metadata": {},
   "outputs": [
    {
     "data": {
      "text/html": [
       "<div>\n",
       "<style scoped>\n",
       "    .dataframe tbody tr th:only-of-type {\n",
       "        vertical-align: middle;\n",
       "    }\n",
       "\n",
       "    .dataframe tbody tr th {\n",
       "        vertical-align: top;\n",
       "    }\n",
       "\n",
       "    .dataframe thead th {\n",
       "        text-align: right;\n",
       "    }\n",
       "</style>\n",
       "<table border=\"1\" class=\"dataframe\">\n",
       "  <thead>\n",
       "    <tr style=\"text-align: right;\">\n",
       "      <th></th>\n",
       "      <th>Brand</th>\n",
       "      <th>Product_Description</th>\n",
       "      <th>Price</th>\n",
       "    </tr>\n",
       "  </thead>\n",
       "  <tbody>\n",
       "    <tr>\n",
       "      <th>0</th>\n",
       "      <td>GANSTA</td>\n",
       "      <td>UV Protection, Riding Glasses Wayfarer Sunglas...</td>\n",
       "      <td>159</td>\n",
       "    </tr>\n",
       "    <tr>\n",
       "      <th>1</th>\n",
       "      <td>Elligator</td>\n",
       "      <td>UV Protection Round Sunglasses (54)</td>\n",
       "      <td>198</td>\n",
       "    </tr>\n",
       "    <tr>\n",
       "      <th>2</th>\n",
       "      <td>Fastrack</td>\n",
       "      <td>UV Protection Wayfarer Sunglasses (Free Size)</td>\n",
       "      <td>729</td>\n",
       "    </tr>\n",
       "    <tr>\n",
       "      <th>3</th>\n",
       "      <td>SRPM</td>\n",
       "      <td>UV Protection Wayfarer Sunglasses (50)</td>\n",
       "      <td>138</td>\n",
       "    </tr>\n",
       "    <tr>\n",
       "      <th>4</th>\n",
       "      <td>SUNBEE</td>\n",
       "      <td>UV Protection, Polarized Wayfarer Sunglasses (...</td>\n",
       "      <td>193</td>\n",
       "    </tr>\n",
       "    <tr>\n",
       "      <th>...</th>\n",
       "      <td>...</td>\n",
       "      <td>...</td>\n",
       "      <td>...</td>\n",
       "    </tr>\n",
       "    <tr>\n",
       "      <th>95</th>\n",
       "      <td>DEIXELS</td>\n",
       "      <td>UV Protection Wayfarer Sunglasses (Free Size)</td>\n",
       "      <td>149</td>\n",
       "    </tr>\n",
       "    <tr>\n",
       "      <th>96</th>\n",
       "      <td>PIRASO</td>\n",
       "      <td>Mirrored Aviator Sunglasses (32)</td>\n",
       "      <td>149</td>\n",
       "    </tr>\n",
       "    <tr>\n",
       "      <th>97</th>\n",
       "      <td>Urbanic</td>\n",
       "      <td>Others Retro Square Sunglasses (Free Size)</td>\n",
       "      <td>819</td>\n",
       "    </tr>\n",
       "    <tr>\n",
       "      <th>98</th>\n",
       "      <td>NuVew</td>\n",
       "      <td>UV Protection Retro Square, Wayfarer Sunglasse...</td>\n",
       "      <td>98</td>\n",
       "    </tr>\n",
       "    <tr>\n",
       "      <th>99</th>\n",
       "      <td>Rich Club</td>\n",
       "      <td>Polarized Round Sunglasses (48)</td>\n",
       "      <td>106</td>\n",
       "    </tr>\n",
       "  </tbody>\n",
       "</table>\n",
       "<p>100 rows × 3 columns</p>\n",
       "</div>"
      ],
      "text/plain": [
       "        Brand                                Product_Description Price\n",
       "0      GANSTA  UV Protection, Riding Glasses Wayfarer Sunglas...   159\n",
       "1   Elligator                UV Protection Round Sunglasses (54)   198\n",
       "2    Fastrack      UV Protection Wayfarer Sunglasses (Free Size)   729\n",
       "3        SRPM             UV Protection Wayfarer Sunglasses (50)   138\n",
       "4      SUNBEE  UV Protection, Polarized Wayfarer Sunglasses (...   193\n",
       "..        ...                                                ...   ...\n",
       "95    DEIXELS      UV Protection Wayfarer Sunglasses (Free Size)   149\n",
       "96     PIRASO                   Mirrored Aviator Sunglasses (32)   149\n",
       "97    Urbanic         Others Retro Square Sunglasses (Free Size)   819\n",
       "98      NuVew  UV Protection Retro Square, Wayfarer Sunglasse...    98\n",
       "99  Rich Club                    Polarized Round Sunglasses (48)   106\n",
       "\n",
       "[100 rows x 3 columns]"
      ]
     },
     "execution_count": 26,
     "metadata": {},
     "output_type": "execute_result"
    }
   ],
   "source": [
    "flipkart_data = pd.DataFrame({'Brand' : brand[0:100] , 'Product_Description' : Description[0:100] , 'Price' : Price[0:100]})\n",
    "flipkart_data"
   ]
  },
  {
   "cell_type": "code",
   "execution_count": null,
   "id": "5a8d0844",
   "metadata": {},
   "outputs": [],
   "source": []
  },
  {
   "cell_type": "markdown",
   "id": "a15c7c6e",
   "metadata": {},
   "source": [
    "## Q - 5 : Scrape 100 reviews data from flipkart.com for iphone11 phone."
   ]
  },
  {
   "cell_type": "code",
   "execution_count": 27,
   "id": "2b745f76",
   "metadata": {},
   "outputs": [],
   "source": [
    "import selenium\n",
    "from selenium import webdriver\n",
    "import pandas as pd\n",
    "import warnings\n",
    "warnings.filterwarnings(\"ignore\")"
   ]
  },
  {
   "cell_type": "code",
   "execution_count": 28,
   "id": "ef2a4403",
   "metadata": {},
   "outputs": [],
   "source": [
    "driver = webdriver.Chrome(r'C:\\Users\\Wystre\\Desktop\\chromedriver.exe')"
   ]
  },
  {
   "cell_type": "code",
   "execution_count": 29,
   "id": "b4553fef",
   "metadata": {},
   "outputs": [],
   "source": [
    "url5 = 'https://www.flipkart.com/apple-iphone-11-black-64-gb-includes- earpods-power\u0002adapter/p/itm0f37c2240b217?pid=MOBFKCTSVZAXUHGR&lid=LSTMOBFKCTSVZAXUHGREPBFGI&marketplace'\n",
    "driver.get(url5)"
   ]
  },
  {
   "cell_type": "code",
   "execution_count": 31,
   "id": "aeeac6e4",
   "metadata": {},
   "outputs": [],
   "source": [
    "review_btn = driver.find_element_by_xpath('/html/body/div[1]/div/div[3]/div[1]/div[2]/div[8]/div/div/div[5]/div/a/div/span')\n",
    "review_btn.click()"
   ]
  },
  {
   "cell_type": "code",
   "execution_count": 60,
   "id": "061da7f6",
   "metadata": {},
   "outputs": [],
   "source": [
    "page_url = []\n",
    "\n",
    "url = driver.find_elements_by_xpath(\"//nav[@class='yFHi8N']//a\")\n",
    "for i in url:\n",
    "    page_url.append(i.get_attribute('href'))\n",
    "page_url=page_url[0:10]"
   ]
  },
  {
   "cell_type": "code",
   "execution_count": 71,
   "id": "cf1b4246",
   "metadata": {},
   "outputs": [],
   "source": [
    "rating = []\n",
    "review_s = []\n",
    "review_v = []\n",
    "\n",
    "for i in page_url:\n",
    "    r_rating = driver.find_elements_by_xpath(\"//div[@class='_3LWZlK _1BLPMq']\")\n",
    "    for i in r_rating:\n",
    "        rating.append(i.text)\n",
    "            \n",
    "            \n",
    "    r1_review = driver.find_elements_by_xpath(\"//p[@class='_2-N8zT']\")\n",
    "    for i in r1_review:\n",
    "        review_s.append(i.text)\n",
    "        \n",
    "        \n",
    "    r2_review = driver.find_elements_by_xpath(\"//div[@class='t-ZTKy']\")\n",
    "    for i in r2_review:\n",
    "        review_v.append(i.text)\n",
    "        \n",
    "        \n",
    "    "
   ]
  },
  {
   "cell_type": "code",
   "execution_count": 72,
   "id": "d1dc8fb5",
   "metadata": {},
   "outputs": [
    {
     "data": {
      "text/html": [
       "<div>\n",
       "<style scoped>\n",
       "    .dataframe tbody tr th:only-of-type {\n",
       "        vertical-align: middle;\n",
       "    }\n",
       "\n",
       "    .dataframe tbody tr th {\n",
       "        vertical-align: top;\n",
       "    }\n",
       "\n",
       "    .dataframe thead th {\n",
       "        text-align: right;\n",
       "    }\n",
       "</style>\n",
       "<table border=\"1\" class=\"dataframe\">\n",
       "  <thead>\n",
       "    <tr style=\"text-align: right;\">\n",
       "      <th></th>\n",
       "      <th>Rating</th>\n",
       "      <th>Review summary</th>\n",
       "      <th>Full review</th>\n",
       "    </tr>\n",
       "  </thead>\n",
       "  <tbody>\n",
       "    <tr>\n",
       "      <th>0</th>\n",
       "      <td>5</td>\n",
       "      <td>Brilliant</td>\n",
       "      <td>The Best Phone for the Money\\n\\nThe iPhone 11 ...</td>\n",
       "    </tr>\n",
       "    <tr>\n",
       "      <th>1</th>\n",
       "      <td>5</td>\n",
       "      <td>Simply awesome</td>\n",
       "      <td>Really satisfied with the Product I received.....</td>\n",
       "    </tr>\n",
       "    <tr>\n",
       "      <th>2</th>\n",
       "      <td>5</td>\n",
       "      <td>Best in the market!</td>\n",
       "      <td>Great iPhone very snappy experience as apple k...</td>\n",
       "    </tr>\n",
       "    <tr>\n",
       "      <th>3</th>\n",
       "      <td>5</td>\n",
       "      <td>Perfect product!</td>\n",
       "      <td>Amazing phone with great cameras and better ba...</td>\n",
       "    </tr>\n",
       "    <tr>\n",
       "      <th>4</th>\n",
       "      <td>5</td>\n",
       "      <td>Fabulous!</td>\n",
       "      <td>This is my first iOS phone. I am very happy wi...</td>\n",
       "    </tr>\n",
       "    <tr>\n",
       "      <th>...</th>\n",
       "      <td>...</td>\n",
       "      <td>...</td>\n",
       "      <td>...</td>\n",
       "    </tr>\n",
       "    <tr>\n",
       "      <th>95</th>\n",
       "      <td>5</td>\n",
       "      <td>Worth every penny</td>\n",
       "      <td>Previously I was using one plus 3t it was a gr...</td>\n",
       "    </tr>\n",
       "    <tr>\n",
       "      <th>96</th>\n",
       "      <td>5</td>\n",
       "      <td>Great product</td>\n",
       "      <td>Amazing Powerful and Durable Gadget.\\n\\nI’m am...</td>\n",
       "    </tr>\n",
       "    <tr>\n",
       "      <th>97</th>\n",
       "      <td>5</td>\n",
       "      <td>Highly recommended</td>\n",
       "      <td>What a camera .....just awesome ..you can feel...</td>\n",
       "    </tr>\n",
       "    <tr>\n",
       "      <th>98</th>\n",
       "      <td>4</td>\n",
       "      <td>Good choice</td>\n",
       "      <td>So far it’s been an AMAZING experience coming ...</td>\n",
       "    </tr>\n",
       "    <tr>\n",
       "      <th>99</th>\n",
       "      <td>5</td>\n",
       "      <td>Worth every penny</td>\n",
       "      <td>i11 is worthy to buy, too much happy with the ...</td>\n",
       "    </tr>\n",
       "  </tbody>\n",
       "</table>\n",
       "<p>100 rows × 3 columns</p>\n",
       "</div>"
      ],
      "text/plain": [
       "   Rating       Review summary  \\\n",
       "0       5            Brilliant   \n",
       "1       5       Simply awesome   \n",
       "2       5  Best in the market!   \n",
       "3       5     Perfect product!   \n",
       "4       5            Fabulous!   \n",
       "..    ...                  ...   \n",
       "95      5    Worth every penny   \n",
       "96      5        Great product   \n",
       "97      5   Highly recommended   \n",
       "98      4          Good choice   \n",
       "99      5    Worth every penny   \n",
       "\n",
       "                                          Full review  \n",
       "0   The Best Phone for the Money\\n\\nThe iPhone 11 ...  \n",
       "1   Really satisfied with the Product I received.....  \n",
       "2   Great iPhone very snappy experience as apple k...  \n",
       "3   Amazing phone with great cameras and better ba...  \n",
       "4   This is my first iOS phone. I am very happy wi...  \n",
       "..                                                ...  \n",
       "95  Previously I was using one plus 3t it was a gr...  \n",
       "96  Amazing Powerful and Durable Gadget.\\n\\nI’m am...  \n",
       "97  What a camera .....just awesome ..you can feel...  \n",
       "98  So far it’s been an AMAZING experience coming ...  \n",
       "99  i11 is worthy to buy, too much happy with the ...  \n",
       "\n",
       "[100 rows x 3 columns]"
      ]
     },
     "execution_count": 72,
     "metadata": {},
     "output_type": "execute_result"
    }
   ],
   "source": [
    "flipkart_data = pd.DataFrame({'Rating' : rating[0:100] , 'Review summary' : review_s[0:100] , 'Full review' : review_v[0:100]})\n",
    "flipkart_data"
   ]
  },
  {
   "cell_type": "code",
   "execution_count": null,
   "id": "b97898db",
   "metadata": {},
   "outputs": [],
   "source": []
  },
  {
   "cell_type": "markdown",
   "id": "3c7aa2bf",
   "metadata": {},
   "source": [
    "## Q - 6 : Scrape data for first 100 sneakers you find when you visit flipkart.com andsearch for “sneakers” in the search field.\n"
   ]
  },
  {
   "cell_type": "code",
   "execution_count": 73,
   "id": "5bd03d32",
   "metadata": {},
   "outputs": [],
   "source": [
    "import selenium\n",
    "from selenium import webdriver\n",
    "import pandas as pd\n",
    "import warnings\n",
    "warnings.filterwarnings(\"ignore\")"
   ]
  },
  {
   "cell_type": "code",
   "execution_count": 74,
   "id": "84b6cea8",
   "metadata": {},
   "outputs": [],
   "source": [
    "driver = webdriver.Chrome(r'C:\\Users\\Wystre\\Desktop\\chromedriver.exe')"
   ]
  },
  {
   "cell_type": "code",
   "execution_count": 75,
   "id": "e6ff1b1a",
   "metadata": {},
   "outputs": [],
   "source": [
    "url6 = 'https://www.flipkart.com/'\n",
    "driver.get(url6)"
   ]
  },
  {
   "cell_type": "code",
   "execution_count": 76,
   "id": "9be9dcd4",
   "metadata": {},
   "outputs": [],
   "source": [
    "search_item= driver.find_element_by_xpath('/html/body/div[1]/div/div[1]/div[1]/div[2]/div[2]/form/div/div/input')\n",
    "search_item.send_keys(\"sneakers\")"
   ]
  },
  {
   "cell_type": "code",
   "execution_count": 78,
   "id": "ac3fab77",
   "metadata": {},
   "outputs": [],
   "source": [
    "search_btn= driver.find_element_by_class_name('L0Z3Pu')\n",
    "search_btn.click()"
   ]
  },
  {
   "cell_type": "code",
   "execution_count": 89,
   "id": "77bad884",
   "metadata": {},
   "outputs": [],
   "source": [
    "Brand = []\n",
    "Description = []\n",
    "Price = []\n",
    "url = []\n",
    "\n",
    "for i in range(0,3):\n",
    "    for j in driver.find_elements_by_xpath(\"//nav[@class='yFHi8N']\"):\n",
    "        url.append(j.get_attribute('href'))\n",
    "    for i in range(0,3):\n",
    "        for i in driver.find_elements_by_xpath(\"//div[@class='_2WkVRV']\"):\n",
    "            Brand.append(i.text)\n",
    "            \n",
    "        for i in driver.find_elements_by_xpath(\"//a[@class='IRpwTa']\"):\n",
    "            Description.append(i.text)\n",
    "            \n",
    "        for i in driver.find_elements_by_xpath(\"//div[@class='_30jeq3']\"):\n",
    "            Price.append(i.text)\n",
    "        \n",
    "    "
   ]
  },
  {
   "cell_type": "code",
   "execution_count": 92,
   "id": "3c871015",
   "metadata": {},
   "outputs": [
    {
     "data": {
      "text/html": [
       "<div>\n",
       "<style scoped>\n",
       "    .dataframe tbody tr th:only-of-type {\n",
       "        vertical-align: middle;\n",
       "    }\n",
       "\n",
       "    .dataframe tbody tr th {\n",
       "        vertical-align: top;\n",
       "    }\n",
       "\n",
       "    .dataframe thead th {\n",
       "        text-align: right;\n",
       "    }\n",
       "</style>\n",
       "<table border=\"1\" class=\"dataframe\">\n",
       "  <thead>\n",
       "    <tr style=\"text-align: right;\">\n",
       "      <th></th>\n",
       "      <th>Brand</th>\n",
       "      <th>Description</th>\n",
       "      <th>Price</th>\n",
       "    </tr>\n",
       "  </thead>\n",
       "  <tbody>\n",
       "    <tr>\n",
       "      <th>0</th>\n",
       "      <td>Chevit</td>\n",
       "      <td>494 Perfect Sports Shoes for Running Training ...</td>\n",
       "      <td>₹204</td>\n",
       "    </tr>\n",
       "    <tr>\n",
       "      <th>1</th>\n",
       "      <td>Echor</td>\n",
       "      <td>Sneakers For Men</td>\n",
       "      <td>₹449</td>\n",
       "    </tr>\n",
       "    <tr>\n",
       "      <th>2</th>\n",
       "      <td>Elevarse</td>\n",
       "      <td>Modern Trendy Sneakers Shoes Sneakers For Men</td>\n",
       "      <td>₹299</td>\n",
       "    </tr>\n",
       "    <tr>\n",
       "      <th>3</th>\n",
       "      <td>BRUTON</td>\n",
       "      <td>Combo Pack Of 4 Casual Shoes Loafer Shoes Snea...</td>\n",
       "      <td>₹209</td>\n",
       "    </tr>\n",
       "    <tr>\n",
       "      <th>4</th>\n",
       "      <td>BRUTON</td>\n",
       "      <td>Combo Pack Of 2 Latest Stylish Casual Shoes fo...</td>\n",
       "      <td>₹374</td>\n",
       "    </tr>\n",
       "    <tr>\n",
       "      <th>...</th>\n",
       "      <td>...</td>\n",
       "      <td>...</td>\n",
       "      <td>...</td>\n",
       "    </tr>\n",
       "    <tr>\n",
       "      <th>95</th>\n",
       "      <td>RODDICK SHOES</td>\n",
       "      <td>Sports Running Shoes Sneakers For Men</td>\n",
       "      <td>₹374</td>\n",
       "    </tr>\n",
       "    <tr>\n",
       "      <th>96</th>\n",
       "      <td>RapidBox</td>\n",
       "      <td>494 Perfect Sports Shoes for Running Training ...</td>\n",
       "      <td>₹630</td>\n",
       "    </tr>\n",
       "    <tr>\n",
       "      <th>97</th>\n",
       "      <td>luxury fashion</td>\n",
       "      <td>Sneakers For Men</td>\n",
       "      <td>₹399</td>\n",
       "    </tr>\n",
       "    <tr>\n",
       "      <th>98</th>\n",
       "      <td>World Wear Footwear</td>\n",
       "      <td>Modern Trendy Sneakers Shoes Sneakers For Men</td>\n",
       "      <td>₹199</td>\n",
       "    </tr>\n",
       "    <tr>\n",
       "      <th>99</th>\n",
       "      <td>Airland</td>\n",
       "      <td>Combo Pack Of 4 Casual Shoes Loafer Shoes Snea...</td>\n",
       "      <td>₹198</td>\n",
       "    </tr>\n",
       "  </tbody>\n",
       "</table>\n",
       "<p>100 rows × 3 columns</p>\n",
       "</div>"
      ],
      "text/plain": [
       "                  Brand                                        Description  \\\n",
       "0                Chevit  494 Perfect Sports Shoes for Running Training ...   \n",
       "1                 Echor                                   Sneakers For Men   \n",
       "2              Elevarse      Modern Trendy Sneakers Shoes Sneakers For Men   \n",
       "3                BRUTON  Combo Pack Of 4 Casual Shoes Loafer Shoes Snea...   \n",
       "4                BRUTON  Combo Pack Of 2 Latest Stylish Casual Shoes fo...   \n",
       "..                  ...                                                ...   \n",
       "95        RODDICK SHOES              Sports Running Shoes Sneakers For Men   \n",
       "96             RapidBox  494 Perfect Sports Shoes for Running Training ...   \n",
       "97       luxury fashion                                   Sneakers For Men   \n",
       "98  World Wear Footwear      Modern Trendy Sneakers Shoes Sneakers For Men   \n",
       "99              Airland  Combo Pack Of 4 Casual Shoes Loafer Shoes Snea...   \n",
       "\n",
       "   Price  \n",
       "0   ₹204  \n",
       "1   ₹449  \n",
       "2   ₹299  \n",
       "3   ₹209  \n",
       "4   ₹374  \n",
       "..   ...  \n",
       "95  ₹374  \n",
       "96  ₹630  \n",
       "97  ₹399  \n",
       "98  ₹199  \n",
       "99  ₹198  \n",
       "\n",
       "[100 rows x 3 columns]"
      ]
     },
     "execution_count": 92,
     "metadata": {},
     "output_type": "execute_result"
    }
   ],
   "source": [
    "f_data = pd.DataFrame({'Brand': Brand[:100], 'Description': Description[:100] , 'Price': Price[:100]})\n",
    "f_data"
   ]
  },
  {
   "cell_type": "code",
   "execution_count": null,
   "id": "cf691c9d",
   "metadata": {},
   "outputs": [],
   "source": []
  },
  {
   "cell_type": "markdown",
   "id": "e74e953c",
   "metadata": {},
   "source": [
    "### Q - 7 :  Go to the link - https://www.myntra.com/shoes ....Set Price filter to “Rs. 7149 to Rs. 14099 ” , Color filter to “Black”"
   ]
  },
  {
   "cell_type": "code",
   "execution_count": 67,
   "id": "4a0394e3",
   "metadata": {},
   "outputs": [],
   "source": [
    "import selenium\n",
    "from selenium import webdriver\n",
    "import pandas as pd\n",
    "import time\n"
   ]
  },
  {
   "cell_type": "code",
   "execution_count": 68,
   "id": "8f95107f",
   "metadata": {},
   "outputs": [],
   "source": [
    "driver = webdriver.Chrome(r'C:\\Users\\Wystre\\Desktop\\chromedriver.exe')"
   ]
  },
  {
   "cell_type": "code",
   "execution_count": 69,
   "id": "f723e30f",
   "metadata": {},
   "outputs": [],
   "source": [
    "url6 = 'https://www.myntra.com/shoes/'\n",
    "driver.get(url6)"
   ]
  },
  {
   "cell_type": "code",
   "execution_count": 70,
   "id": "c2221656",
   "metadata": {},
   "outputs": [],
   "source": [
    "price_filter = driver.find_element_by_xpath('/html/body/div[2]/div/div[1]/main/div[3]/div[1]/section/div/div[5]/ul/li[2]/label/div')\n",
    "price_filter.click()"
   ]
  },
  {
   "cell_type": "code",
   "execution_count": 71,
   "id": "1cde6833",
   "metadata": {},
   "outputs": [],
   "source": [
    "color_filter = driver.find_element_by_xpath('/html/body/div[2]/div/div[1]/main/div[3]/div[1]/section/div/div[6]/ul/li[1]/label/div')\n",
    "color_filter.click()"
   ]
  },
  {
   "cell_type": "code",
   "execution_count": 72,
   "id": "8f18f0ab",
   "metadata": {},
   "outputs": [],
   "source": [
    "\n",
    "Brand = []\n",
    "Description = []\n",
    "Price = []\n",
    "url = []\n",
    "\n",
    "for i in range(0,2):\n",
    "    for j in driver.find_elements_by_xpath(\"//ul[@class='results-base']//a\"):\n",
    "        url.append(j.get_attribute('href'))\n",
    "    \n",
    "    for i in range(0,2):\n",
    "        \n",
    "        for i in driver.find_elements_by_xpath(\"//h3[@class='product-brand']\"):\n",
    "            Brand.append(i.text)\n",
    "        \n",
    "        for i in driver.find_elements_by_xpath(\"//h4[@class='product-product']\"):\n",
    "            Description.append(i.text)\n",
    "        \n",
    "        for i in driver.find_elements_by_xpath(\"//div[@class='product-price']//span\"):\n",
    "            Price.append(i.text)\n",
    "            \n",
    "        driver.find_element_by_xpath(\"//li[@class='pagination-next']//a\").click()\n",
    "        time.sleep(4)   \n",
    "            \n",
    "            \n",
    "            "
   ]
  },
  {
   "cell_type": "code",
   "execution_count": 73,
   "id": "99977c7c",
   "metadata": {},
   "outputs": [
    {
     "data": {
      "text/html": [
       "<div>\n",
       "<style scoped>\n",
       "    .dataframe tbody tr th:only-of-type {\n",
       "        vertical-align: middle;\n",
       "    }\n",
       "\n",
       "    .dataframe tbody tr th {\n",
       "        vertical-align: top;\n",
       "    }\n",
       "\n",
       "    .dataframe thead th {\n",
       "        text-align: right;\n",
       "    }\n",
       "</style>\n",
       "<table border=\"1\" class=\"dataframe\">\n",
       "  <thead>\n",
       "    <tr style=\"text-align: right;\">\n",
       "      <th></th>\n",
       "      <th>Brand</th>\n",
       "      <th>Description</th>\n",
       "      <th>Price</th>\n",
       "    </tr>\n",
       "  </thead>\n",
       "  <tbody>\n",
       "    <tr>\n",
       "      <th>0</th>\n",
       "      <td>Puma</td>\n",
       "      <td>Men Magnify Nitro Running</td>\n",
       "      <td>Rs. 7799Rs. 12999</td>\n",
       "    </tr>\n",
       "    <tr>\n",
       "      <th>1</th>\n",
       "      <td>Nike</td>\n",
       "      <td>Men Air Max Dawn Sneakers</td>\n",
       "      <td>Rs. 7799</td>\n",
       "    </tr>\n",
       "    <tr>\n",
       "      <th>2</th>\n",
       "      <td>Nike</td>\n",
       "      <td>Men Blazer Court Skateboarding</td>\n",
       "      <td>Rs. 12999</td>\n",
       "    </tr>\n",
       "    <tr>\n",
       "      <th>3</th>\n",
       "      <td>Nike</td>\n",
       "      <td>Men Winflo 7 Running Shoes</td>\n",
       "      <td>(40% OFF)</td>\n",
       "    </tr>\n",
       "    <tr>\n",
       "      <th>4</th>\n",
       "      <td>Tommy Hilfiger</td>\n",
       "      <td>Men Leather Sneakers</td>\n",
       "      <td>Rs. 10995</td>\n",
       "    </tr>\n",
       "    <tr>\n",
       "      <th>...</th>\n",
       "      <td>...</td>\n",
       "      <td>...</td>\n",
       "      <td>...</td>\n",
       "    </tr>\n",
       "    <tr>\n",
       "      <th>95</th>\n",
       "      <td>Saint G</td>\n",
       "      <td>Women Leather Heeled Boots</td>\n",
       "      <td>Rs. 7999</td>\n",
       "    </tr>\n",
       "    <tr>\n",
       "      <th>96</th>\n",
       "      <td>Pavers England</td>\n",
       "      <td>Men Printed Loafers</td>\n",
       "      <td>Rs. 7999</td>\n",
       "    </tr>\n",
       "    <tr>\n",
       "      <th>97</th>\n",
       "      <td>Saint G</td>\n",
       "      <td>Women Leather Heeled Boots</td>\n",
       "      <td>Rs. 7990</td>\n",
       "    </tr>\n",
       "    <tr>\n",
       "      <th>98</th>\n",
       "      <td>Geox</td>\n",
       "      <td>Men Leather Loafers</td>\n",
       "      <td>Rs. 11470Rs. 13495</td>\n",
       "    </tr>\n",
       "    <tr>\n",
       "      <th>99</th>\n",
       "      <td>Geox</td>\n",
       "      <td>Men Striped Leather Sneakers</td>\n",
       "      <td>Rs. 11470</td>\n",
       "    </tr>\n",
       "  </tbody>\n",
       "</table>\n",
       "<p>100 rows × 3 columns</p>\n",
       "</div>"
      ],
      "text/plain": [
       "             Brand                     Description               Price\n",
       "0             Puma       Men Magnify Nitro Running   Rs. 7799Rs. 12999\n",
       "1             Nike       Men Air Max Dawn Sneakers            Rs. 7799\n",
       "2             Nike  Men Blazer Court Skateboarding           Rs. 12999\n",
       "3             Nike      Men Winflo 7 Running Shoes           (40% OFF)\n",
       "4   Tommy Hilfiger            Men Leather Sneakers           Rs. 10995\n",
       "..             ...                             ...                 ...\n",
       "95         Saint G      Women Leather Heeled Boots            Rs. 7999\n",
       "96  Pavers England             Men Printed Loafers            Rs. 7999\n",
       "97         Saint G      Women Leather Heeled Boots            Rs. 7990\n",
       "98            Geox             Men Leather Loafers  Rs. 11470Rs. 13495\n",
       "99            Geox    Men Striped Leather Sneakers           Rs. 11470\n",
       "\n",
       "[100 rows x 3 columns]"
      ]
     },
     "execution_count": 73,
     "metadata": {},
     "output_type": "execute_result"
    }
   ],
   "source": [
    "myntra_data = pd.DataFrame({'Brand': Brand[:100], 'Description': Description[:100] , 'Price': Price[:100]})\n",
    "myntra_data"
   ]
  },
  {
   "cell_type": "code",
   "execution_count": null,
   "id": "571acdf6",
   "metadata": {},
   "outputs": [],
   "source": []
  },
  {
   "cell_type": "markdown",
   "id": "33863f74",
   "metadata": {},
   "source": [
    "### Q - 8 : Enter “Laptop” in the search field and then click the search icon..Then set CPU Type filter to “Intel Core i7” and “Intel Core i9” as shown in the below image:"
   ]
  },
  {
   "cell_type": "code",
   "execution_count": 163,
   "id": "656451e3",
   "metadata": {},
   "outputs": [],
   "source": [
    "import selenium\n",
    "from selenium import webdriver\n",
    "import pandas as pd\n",
    "import time\n"
   ]
  },
  {
   "cell_type": "code",
   "execution_count": 164,
   "id": "7eeb4124",
   "metadata": {},
   "outputs": [],
   "source": [
    "driver = webdriver.Chrome(r'C:\\Users\\Wystre\\Desktop\\chromedriver.exe')"
   ]
  },
  {
   "cell_type": "code",
   "execution_count": 165,
   "id": "f6b66b4e",
   "metadata": {},
   "outputs": [],
   "source": [
    "url8 = 'https://www.amazon.in/'\n",
    "driver.get(url8)"
   ]
  },
  {
   "cell_type": "code",
   "execution_count": 166,
   "id": "fbdc5b7d",
   "metadata": {},
   "outputs": [],
   "source": [
    "search = driver.find_element_by_xpath('/html/body/div[1]/header/div/div[1]/div[2]/div/form/div[2]/div[1]/input')\n",
    "search.send_keys(\"laptop\")"
   ]
  },
  {
   "cell_type": "code",
   "execution_count": 167,
   "id": "fc6bcdaf",
   "metadata": {},
   "outputs": [],
   "source": [
    "btn = driver.find_element_by_xpath('/html/body/div[1]/header/div/div[1]/div[2]/div/form/div[3]/div/span/input')\n",
    "btn.click()"
   ]
  },
  {
   "cell_type": "code",
   "execution_count": 168,
   "id": "ffcd77a7",
   "metadata": {},
   "outputs": [],
   "source": [
    "i7 = driver.find_element_by_xpath('//*[@id=\"p_n_feature_thirteen_browse-bin/12598163031\"]/span/a')\n",
    "i7.click()\n"
   ]
  },
  {
   "cell_type": "code",
   "execution_count": 169,
   "id": "5e0dba6d",
   "metadata": {},
   "outputs": [],
   "source": [
    "Title = []\n",
    "Price = []\n",
    "\n",
    "brand_title = driver.find_elements_by_xpath('//span[@class =\"a-size-medium a-color-base a-text-normal\"]')\n",
    "for i in brand_title:\n",
    "    Title.append(i.text)\n",
    "    \n",
    "    \n",
    "brand_price = driver.find_elements_by_xpath('//span[@class =\"a-price-whole\"]')\n",
    "for i in brand_price:\n",
    "    Price.append(i.text)\n"
   ]
  },
  {
   "cell_type": "code",
   "execution_count": 171,
   "id": "f2db018e",
   "metadata": {},
   "outputs": [],
   "source": [
    "back_btn= driver.find_element_by_xpath('//*[@id=\"filters\"]/ul[3]/li[1]/span/a/span[2]')\n",
    "back_btn.click()"
   ]
  },
  {
   "cell_type": "code",
   "execution_count": 172,
   "id": "f93aaadc",
   "metadata": {},
   "outputs": [],
   "source": [
    "i9 = driver.find_element_by_xpath('//*[@id=\"p_n_feature_thirteen_browse-bin/16757432031\"]/span/a')\n",
    "i9.click()\n"
   ]
  },
  {
   "cell_type": "code",
   "execution_count": 173,
   "id": "5d73dac9",
   "metadata": {},
   "outputs": [],
   "source": [
    "Title_1 = []\n",
    "Price_1 = []\n",
    "\n",
    "brand_title = driver.find_elements_by_xpath('//span[@class =\"a-size-medium a-color-base a-text-normal\"]')\n",
    "for i in brand_title:\n",
    "    Title_1.append(i.text)\n",
    "    \n",
    "    \n",
    "brand_price = driver.find_elements_by_xpath('//span[@class =\"a-price-whole\"]')\n",
    "for i in brand_price:\n",
    "    Price_1.append(i.text)\n"
   ]
  },
  {
   "cell_type": "code",
   "execution_count": 178,
   "id": "e51e0ab4",
   "metadata": {},
   "outputs": [
    {
     "data": {
      "text/html": [
       "<div>\n",
       "<style scoped>\n",
       "    .dataframe tbody tr th:only-of-type {\n",
       "        vertical-align: middle;\n",
       "    }\n",
       "\n",
       "    .dataframe tbody tr th {\n",
       "        vertical-align: top;\n",
       "    }\n",
       "\n",
       "    .dataframe thead th {\n",
       "        text-align: right;\n",
       "    }\n",
       "</style>\n",
       "<table border=\"1\" class=\"dataframe\">\n",
       "  <thead>\n",
       "    <tr style=\"text-align: right;\">\n",
       "      <th></th>\n",
       "      <th>Title</th>\n",
       "      <th>Price</th>\n",
       "    </tr>\n",
       "  </thead>\n",
       "  <tbody>\n",
       "    <tr>\n",
       "      <th>0</th>\n",
       "      <td>Mi Notebook Ultra 3.2K resolution display Inte...</td>\n",
       "      <td>77,490</td>\n",
       "    </tr>\n",
       "    <tr>\n",
       "      <th>1</th>\n",
       "      <td>LG Gram 16 inches Intel Evo 11th Gen Core i7 U...</td>\n",
       "      <td>92,999</td>\n",
       "    </tr>\n",
       "    <tr>\n",
       "      <th>2</th>\n",
       "      <td>ASUS VivoBook 14 (2021), 14-inch (35.56 cms) F...</td>\n",
       "      <td>59,990</td>\n",
       "    </tr>\n",
       "    <tr>\n",
       "      <th>3</th>\n",
       "      <td>HP Pavilion x360 11th Gen Intel Core i7 14 inc...</td>\n",
       "      <td>86,490</td>\n",
       "    </tr>\n",
       "    <tr>\n",
       "      <th>4</th>\n",
       "      <td>ASUS TUF Gaming F15 (2021) 15.6-inch (39.62 cm...</td>\n",
       "      <td>96,990</td>\n",
       "    </tr>\n",
       "    <tr>\n",
       "      <th>5</th>\n",
       "      <td>LG Gram 14 inches Ultra-Light Intel Evo 11th G...</td>\n",
       "      <td>87,999</td>\n",
       "    </tr>\n",
       "    <tr>\n",
       "      <th>6</th>\n",
       "      <td>LG Gram Intel Evo 11th Gen Core i7 17 inches U...</td>\n",
       "      <td>99,499</td>\n",
       "    </tr>\n",
       "    <tr>\n",
       "      <th>7</th>\n",
       "      <td>Mi Notebook Horizon Edition 14 Intel Core i7-1...</td>\n",
       "      <td>59,990</td>\n",
       "    </tr>\n",
       "    <tr>\n",
       "      <th>8</th>\n",
       "      <td>Fujitsu UH-X 11th Gen Intel i7 Core 13.3” (33....</td>\n",
       "      <td>89,990</td>\n",
       "    </tr>\n",
       "    <tr>\n",
       "      <th>9</th>\n",
       "      <td>Lenovo IdeaPad 5 Pro 11th Gen Intel Core i7 14...</td>\n",
       "      <td>81,990</td>\n",
       "    </tr>\n",
       "  </tbody>\n",
       "</table>\n",
       "</div>"
      ],
      "text/plain": [
       "                                               Title   Price\n",
       "0  Mi Notebook Ultra 3.2K resolution display Inte...  77,490\n",
       "1  LG Gram 16 inches Intel Evo 11th Gen Core i7 U...  92,999\n",
       "2  ASUS VivoBook 14 (2021), 14-inch (35.56 cms) F...  59,990\n",
       "3  HP Pavilion x360 11th Gen Intel Core i7 14 inc...  86,490\n",
       "4  ASUS TUF Gaming F15 (2021) 15.6-inch (39.62 cm...  96,990\n",
       "5  LG Gram 14 inches Ultra-Light Intel Evo 11th G...  87,999\n",
       "6  LG Gram Intel Evo 11th Gen Core i7 17 inches U...  99,499\n",
       "7  Mi Notebook Horizon Edition 14 Intel Core i7-1...  59,990\n",
       "8  Fujitsu UH-X 11th Gen Intel i7 Core 13.3” (33....  89,990\n",
       "9  Lenovo IdeaPad 5 Pro 11th Gen Intel Core i7 14...  81,990"
      ]
     },
     "execution_count": 178,
     "metadata": {},
     "output_type": "execute_result"
    }
   ],
   "source": [
    "i7_data = pd.DataFrame({'Title': Title[:10], 'Price': Price[:10]})\n",
    "i7_data"
   ]
  },
  {
   "cell_type": "code",
   "execution_count": 182,
   "id": "4212c089",
   "metadata": {},
   "outputs": [
    {
     "data": {
      "text/html": [
       "<div>\n",
       "<style scoped>\n",
       "    .dataframe tbody tr th:only-of-type {\n",
       "        vertical-align: middle;\n",
       "    }\n",
       "\n",
       "    .dataframe tbody tr th {\n",
       "        vertical-align: top;\n",
       "    }\n",
       "\n",
       "    .dataframe thead th {\n",
       "        text-align: right;\n",
       "    }\n",
       "</style>\n",
       "<table border=\"1\" class=\"dataframe\">\n",
       "  <thead>\n",
       "    <tr style=\"text-align: right;\">\n",
       "      <th></th>\n",
       "      <th>Title</th>\n",
       "      <th>Price</th>\n",
       "    </tr>\n",
       "  </thead>\n",
       "  <tbody>\n",
       "    <tr>\n",
       "      <th>0</th>\n",
       "      <td>ASUS TUF Gaming F15 (2021), 15.6-inch (39.62 c...</td>\n",
       "      <td>1,43,990</td>\n",
       "    </tr>\n",
       "    <tr>\n",
       "      <th>1</th>\n",
       "      <td>ASUS TUF Gaming F15 (2021), 15.6-inch (39.62 c...</td>\n",
       "      <td>1,39,990</td>\n",
       "    </tr>\n",
       "    <tr>\n",
       "      <th>2</th>\n",
       "      <td>ASUS TUF Gaming F15 (2021), 15.6\" (39.62 cms) ...</td>\n",
       "      <td>1,44,990</td>\n",
       "    </tr>\n",
       "    <tr>\n",
       "      <th>3</th>\n",
       "      <td>HP ZBOOK Power G8/ Intel core i9-11900H 8 Core...</td>\n",
       "      <td>2,43,000</td>\n",
       "    </tr>\n",
       "    <tr>\n",
       "      <th>4</th>\n",
       "      <td>(Renewed) Dell G7 7500 15.6inch FHD 300 Hz Dis...</td>\n",
       "      <td>2,25,000</td>\n",
       "    </tr>\n",
       "    <tr>\n",
       "      <th>5</th>\n",
       "      <td>(Renewed) DELL XPS 7590 15.6-inch UHD Display ...</td>\n",
       "      <td>1,75,000</td>\n",
       "    </tr>\n",
       "    <tr>\n",
       "      <th>6</th>\n",
       "      <td>HP Zbook - Intel i9, 15 inch(39.6 cm)FHD 400 N...</td>\n",
       "      <td>2,54,563</td>\n",
       "    </tr>\n",
       "    <tr>\n",
       "      <th>7</th>\n",
       "      <td>Dell Precision 5550 || i9 -10885H || 16GB || 1...</td>\n",
       "      <td>2,25,000</td>\n",
       "    </tr>\n",
       "    <tr>\n",
       "      <th>8</th>\n",
       "      <td>Z2 G5 Workstation 700W /Core i9-10900 (2.8GHz ...</td>\n",
       "      <td>2,39,000</td>\n",
       "    </tr>\n",
       "    <tr>\n",
       "      <th>9</th>\n",
       "      <td>HP ZBook Power G8/ Intel Core i9-11950H 2.5GHz...</td>\n",
       "      <td>2,93,000</td>\n",
       "    </tr>\n",
       "  </tbody>\n",
       "</table>\n",
       "</div>"
      ],
      "text/plain": [
       "                                               Title     Price\n",
       "0  ASUS TUF Gaming F15 (2021), 15.6-inch (39.62 c...  1,43,990\n",
       "1  ASUS TUF Gaming F15 (2021), 15.6-inch (39.62 c...  1,39,990\n",
       "2  ASUS TUF Gaming F15 (2021), 15.6\" (39.62 cms) ...  1,44,990\n",
       "3  HP ZBOOK Power G8/ Intel core i9-11900H 8 Core...  2,43,000\n",
       "4  (Renewed) Dell G7 7500 15.6inch FHD 300 Hz Dis...  2,25,000\n",
       "5  (Renewed) DELL XPS 7590 15.6-inch UHD Display ...  1,75,000\n",
       "6  HP Zbook - Intel i9, 15 inch(39.6 cm)FHD 400 N...  2,54,563\n",
       "7  Dell Precision 5550 || i9 -10885H || 16GB || 1...  2,25,000\n",
       "8  Z2 G5 Workstation 700W /Core i9-10900 (2.8GHz ...  2,39,000\n",
       "9  HP ZBook Power G8/ Intel Core i9-11950H 2.5GHz...  2,93,000"
      ]
     },
     "execution_count": 182,
     "metadata": {},
     "output_type": "execute_result"
    }
   ],
   "source": [
    "i9_data = pd.DataFrame({'Title': Title_1[:10], 'Price': Price_1[:10]})\n",
    "i9_data"
   ]
  },
  {
   "cell_type": "code",
   "execution_count": null,
   "id": "229003d8",
   "metadata": {},
   "outputs": [],
   "source": []
  },
  {
   "cell_type": "code",
   "execution_count": null,
   "id": "8b938acc",
   "metadata": {},
   "outputs": [],
   "source": []
  },
  {
   "cell_type": "markdown",
   "id": "b0384d36",
   "metadata": {},
   "source": [
    "### Q - 9 : Write a python program to scrape data for first 10 job results for Data Scientist Designation in Noida\n"
   ]
  },
  {
   "cell_type": "code",
   "execution_count": 215,
   "id": "6a94faad",
   "metadata": {},
   "outputs": [],
   "source": [
    "import selenium\n",
    "from selenium import webdriver\n",
    "import pandas as pd\n"
   ]
  },
  {
   "cell_type": "code",
   "execution_count": 221,
   "id": "20bc7b21",
   "metadata": {},
   "outputs": [],
   "source": [
    "driver = webdriver.Chrome(r'C:\\Users\\Wystre\\Desktop\\chromedriver.exe')"
   ]
  },
  {
   "cell_type": "code",
   "execution_count": 222,
   "id": "a8dcd5ca",
   "metadata": {},
   "outputs": [],
   "source": [
    "url9 = 'http://www.ambitionbox.com/'\n",
    "driver.get(url9) "
   ]
  },
  {
   "cell_type": "code",
   "execution_count": 223,
   "id": "dd4aa6e3",
   "metadata": {},
   "outputs": [],
   "source": [
    "jobs = driver.find_element_by_xpath('/html/body/div[1]/nav/nav/a[6]')\n",
    "jobs.click()"
   ]
  },
  {
   "cell_type": "code",
   "execution_count": 224,
   "id": "af85e8b2",
   "metadata": {},
   "outputs": [],
   "source": [
    "search_job = driver.find_element_by_xpath('/html/body/div/div/div/div[2]/div[1]/div/div/div/div/span/input')\n",
    "search_job.send_keys(\"Data Scientist\")"
   ]
  },
  {
   "cell_type": "code",
   "execution_count": 225,
   "id": "c69935e0",
   "metadata": {},
   "outputs": [],
   "source": [
    "btn = driver.find_element_by_xpath('//span[@class = \"ctas-btn-medium\"]')\n",
    "btn.click()"
   ]
  },
  {
   "cell_type": "code",
   "execution_count": 226,
   "id": "b05cf8b4",
   "metadata": {},
   "outputs": [],
   "source": [
    "loc_btn = driver.find_element_by_xpath('/html/body/div/div/div/div[2]/div[2]/div[1]/div/div/div/div[2]/div[1]')\n",
    "loc_btn.click()\n"
   ]
  },
  {
   "cell_type": "code",
   "execution_count": 227,
   "id": "f6f5cd41",
   "metadata": {},
   "outputs": [],
   "source": [
    "search_loc = driver.find_element_by_xpath('/html/body/div/div/div/div[2]/div[2]/div[1]/div/div/div/div[2]/div[2]/div/div[2]/input')\n",
    "search_loc.send_keys(\"Noida\")\n"
   ]
  },
  {
   "cell_type": "code",
   "execution_count": 228,
   "id": "55e872c9",
   "metadata": {},
   "outputs": [],
   "source": [
    "btn_2 = driver.find_element_by_xpath('/html/body/div/div/div/div[2]/div[2]/div[1]/div/div/div/div[2]/div[2]/div/div[3]/div[1]/div[1]/div/label')\n",
    "btn_2.click()\n"
   ]
  },
  {
   "cell_type": "code",
   "execution_count": 242,
   "id": "fec16f16",
   "metadata": {},
   "outputs": [],
   "source": [
    "C_name = []\n",
    "N_days = []\n",
    "Rating = []\n",
    "\n",
    "name = driver.find_elements_by_xpath(\"//p[@class = 'company body-medium']\")\n",
    "for i in name:\n",
    "    C_name.append(i.text)\n",
    "    \n",
    "days = driver.find_elements_by_xpath(\"//span[@class = 'body-small-l']\") \n",
    "for i in days:\n",
    "    N_days.append(i.text)\n",
    "\n",
    "rate = driver.find_elements_by_xpath(\"//span[@class = 'body-small']\")\n",
    "for i in rate:\n",
    "    Rating.append(i.text)\n",
    "    \n",
    "    \n",
    "    "
   ]
  },
  {
   "cell_type": "code",
   "execution_count": 244,
   "id": "7c68d666",
   "metadata": {},
   "outputs": [
    {
     "data": {
      "text/html": [
       "<div>\n",
       "<style scoped>\n",
       "    .dataframe tbody tr th:only-of-type {\n",
       "        vertical-align: middle;\n",
       "    }\n",
       "\n",
       "    .dataframe tbody tr th {\n",
       "        vertical-align: top;\n",
       "    }\n",
       "\n",
       "    .dataframe thead th {\n",
       "        text-align: right;\n",
       "    }\n",
       "</style>\n",
       "<table border=\"1\" class=\"dataframe\">\n",
       "  <thead>\n",
       "    <tr style=\"text-align: right;\">\n",
       "      <th></th>\n",
       "      <th>Company Name</th>\n",
       "      <th>Job Posted</th>\n",
       "      <th>Rating</th>\n",
       "    </tr>\n",
       "  </thead>\n",
       "  <tbody>\n",
       "    <tr>\n",
       "      <th>0</th>\n",
       "      <td>Jubilant Foodworks Limited</td>\n",
       "      <td>16d ago</td>\n",
       "      <td>3.9</td>\n",
       "    </tr>\n",
       "    <tr>\n",
       "      <th>1</th>\n",
       "      <td>HCL Technologies</td>\n",
       "      <td>via naukri.com</td>\n",
       "      <td>3.8</td>\n",
       "    </tr>\n",
       "    <tr>\n",
       "      <th>2</th>\n",
       "      <td>EY GDS</td>\n",
       "      <td>30d ago</td>\n",
       "      <td>3.7</td>\n",
       "    </tr>\n",
       "    <tr>\n",
       "      <th>3</th>\n",
       "      <td>Tavant Technologies India Pvt. Ltd.</td>\n",
       "      <td>via naukri.com</td>\n",
       "      <td>4.0</td>\n",
       "    </tr>\n",
       "    <tr>\n",
       "      <th>4</th>\n",
       "      <td>Denave India Pvt Ltd.</td>\n",
       "      <td>1mon ago</td>\n",
       "      <td>4.0</td>\n",
       "    </tr>\n",
       "    <tr>\n",
       "      <th>5</th>\n",
       "      <td>EXL Service</td>\n",
       "      <td>via iimjobs.com</td>\n",
       "      <td>3.8</td>\n",
       "    </tr>\n",
       "    <tr>\n",
       "      <th>6</th>\n",
       "      <td>CHT Sapiense</td>\n",
       "      <td>11d ago</td>\n",
       "      <td>3.8</td>\n",
       "    </tr>\n",
       "    <tr>\n",
       "      <th>7</th>\n",
       "      <td>Pitney Bowes India Pvt ltd</td>\n",
       "      <td>via naukri.com</td>\n",
       "      <td>4.2</td>\n",
       "    </tr>\n",
       "    <tr>\n",
       "      <th>8</th>\n",
       "      <td>Zyoin</td>\n",
       "      <td>11d ago</td>\n",
       "      <td>4.1</td>\n",
       "    </tr>\n",
       "    <tr>\n",
       "      <th>9</th>\n",
       "      <td>Ameriprise Financial</td>\n",
       "      <td>via naukri.com</td>\n",
       "      <td>4.0</td>\n",
       "    </tr>\n",
       "  </tbody>\n",
       "</table>\n",
       "</div>"
      ],
      "text/plain": [
       "                          Company Name       Job Posted Rating\n",
       "0           Jubilant Foodworks Limited          16d ago    3.9\n",
       "1                     HCL Technologies   via naukri.com    3.8\n",
       "2                               EY GDS          30d ago    3.7\n",
       "3  Tavant Technologies India Pvt. Ltd.   via naukri.com    4.0\n",
       "4                Denave India Pvt Ltd.         1mon ago    4.0\n",
       "5                          EXL Service  via iimjobs.com    3.8\n",
       "6                         CHT Sapiense          11d ago    3.8\n",
       "7           Pitney Bowes India Pvt ltd   via naukri.com    4.2\n",
       "8                                Zyoin          11d ago    4.1\n",
       "9                 Ameriprise Financial   via naukri.com    4.0"
      ]
     },
     "execution_count": 244,
     "metadata": {},
     "output_type": "execute_result"
    }
   ],
   "source": [
    "Data = pd.DataFrame({'Company Name': C_name[:10], 'Job Posted': N_days[:10], 'Rating': Rating[:10]})\n",
    "Data"
   ]
  },
  {
   "cell_type": "code",
   "execution_count": null,
   "id": "d156b329",
   "metadata": {},
   "outputs": [],
   "source": []
  },
  {
   "cell_type": "markdown",
   "id": "91ac849c",
   "metadata": {},
   "source": [
    "### Q - 10 : Write a python program to scrape the salary data for Data Scientist designation..You have to scrape Company name, Number of salaries, Average salary, Minsalary, Max Salary."
   ]
  },
  {
   "cell_type": "code",
   "execution_count": 284,
   "id": "664ae45e",
   "metadata": {},
   "outputs": [],
   "source": [
    "import selenium\n",
    "from selenium import webdriver\n",
    "import pandas as pd\n"
   ]
  },
  {
   "cell_type": "code",
   "execution_count": 315,
   "id": "d2672fb1",
   "metadata": {},
   "outputs": [],
   "source": [
    "driver = webdriver.Chrome(r'C:\\Users\\Wystre\\Desktop\\chromedriver.exe')"
   ]
  },
  {
   "cell_type": "code",
   "execution_count": 316,
   "id": "132ee031",
   "metadata": {},
   "outputs": [],
   "source": [
    "url10 = 'http://www.ambitionbox.com/'\n",
    "driver.get(url10)"
   ]
  },
  {
   "cell_type": "code",
   "execution_count": 317,
   "id": "0cd80479",
   "metadata": {},
   "outputs": [],
   "source": [
    "job10= driver.find_element_by_xpath('/html/body/div[1]/nav/nav/a[4]')\n",
    "job10.click()\n"
   ]
  },
  {
   "cell_type": "code",
   "execution_count": 318,
   "id": "be42c308",
   "metadata": {},
   "outputs": [
    {
     "data": {
      "text/plain": [
       "<selenium.webdriver.remote.webelement.WebElement (session=\"f072a4e963b5ab19d1b7f82249c1ea3e\", element=\"5fd83c67-49e0-4144-b64f-55be4befe679\")>"
      ]
     },
     "execution_count": 318,
     "metadata": {},
     "output_type": "execute_result"
    }
   ],
   "source": [
    "\n",
    "search_job10= driver.find_element_by_xpath('/html/body/div/div/div/main/section[1]/div[2]/div[1]/span/input')\n",
    "search_job10.send_keys(\"Data Scientist\")\n"
   ]
  },
  {
   "cell_type": "code",
   "execution_count": 321,
   "id": "5db17ade",
   "metadata": {},
   "outputs": [
    {
     "data": {
      "text/plain": [
       "<bound method WebElement.click of <selenium.webdriver.remote.webelement.WebElement (session=\"f072a4e963b5ab19d1b7f82249c1ea3e\", element=\"0e31e478-ff3a-4f5d-a155-b109add0f8f4\")>>"
      ]
     },
     "execution_count": 321,
     "metadata": {},
     "output_type": "execute_result"
    }
   ],
   "source": [
    "# Clicking the search button\n",
    "btn_src= driver.find_element_by_xpath('/html/body/div/div/div/main/section[1]/div[2]/div[1]/span/div/div/div[2]')\n",
    "btn_src.click"
   ]
  },
  {
   "cell_type": "code",
   "execution_count": 336,
   "id": "4c911d94",
   "metadata": {},
   "outputs": [],
   "source": [
    "titles = []\n",
    "total_sal = []\n",
    "job_exp = []\n",
    "job_sal_min = []\n",
    "job_sal_max = []\n",
    "job_sal_avg = []\n",
    "\n",
    "\n",
    "c_name= driver.find_elements_by_xpath('//div[@class=\"name\"]')\n",
    "for i in c_name:\n",
    "    titles.append(i.text.splitlines()[0])\n",
    "    total_sal.append(i.text.splitlines()[1])\n",
    "    \n",
    "    \n",
    "c_exp= driver.find_elements_by_xpath('//div[@class=\"salaries sbold-list-header\"]')  \n",
    "for i in c_exp:\n",
    "    job_exp.append(i.text.splitlines()[2])\n",
    "    \n",
    "    \n",
    "\n",
    "c_sal= driver.find_elements_by_xpath('//div[@class=\"result-col salary-range\"]')    \n",
    "for i in c_sal:\n",
    "    job_sal_min.append(i.text.splitlines()[0])\n",
    "    job_sal_avg.append(i.text.splitlines()[1])\n",
    "    job_sal_max.append(i.text.splitlines()[2])\n",
    "    \n",
    "    "
   ]
  },
  {
   "cell_type": "code",
   "execution_count": 337,
   "id": "f74eb630",
   "metadata": {},
   "outputs": [
    {
     "data": {
      "text/html": [
       "<div>\n",
       "<style scoped>\n",
       "    .dataframe tbody tr th:only-of-type {\n",
       "        vertical-align: middle;\n",
       "    }\n",
       "\n",
       "    .dataframe tbody tr th {\n",
       "        vertical-align: top;\n",
       "    }\n",
       "\n",
       "    .dataframe thead th {\n",
       "        text-align: right;\n",
       "    }\n",
       "</style>\n",
       "<table border=\"1\" class=\"dataframe\">\n",
       "  <thead>\n",
       "    <tr style=\"text-align: right;\">\n",
       "      <th></th>\n",
       "      <th>Company Name</th>\n",
       "      <th>Total Salary Record</th>\n",
       "      <th>Experience Required</th>\n",
       "      <th>Minimun Salary</th>\n",
       "      <th>Maximum Salary</th>\n",
       "      <th>Average Salary</th>\n",
       "    </tr>\n",
       "  </thead>\n",
       "  <tbody>\n",
       "    <tr>\n",
       "      <th>0</th>\n",
       "      <td>Walmart</td>\n",
       "      <td>based on 10 salaries</td>\n",
       "      <td>3 yrs exp</td>\n",
       "      <td>₹ 28.7L</td>\n",
       "      <td>₹ 35.0L</td>\n",
       "      <td>₹ 17.7L</td>\n",
       "    </tr>\n",
       "    <tr>\n",
       "      <th>1</th>\n",
       "      <td>Ab Inbev</td>\n",
       "      <td>based on 25 salaries</td>\n",
       "      <td>3-4 yrs exp</td>\n",
       "      <td>₹ 20.2L</td>\n",
       "      <td>₹ 25.5L</td>\n",
       "      <td>₹ 15.0L</td>\n",
       "    </tr>\n",
       "    <tr>\n",
       "      <th>2</th>\n",
       "      <td>ZS</td>\n",
       "      <td>based on 13 salaries</td>\n",
       "      <td>2 yrs exp</td>\n",
       "      <td>₹ 15.5L</td>\n",
       "      <td>₹ 20.0L</td>\n",
       "      <td>₹ 9.8L</td>\n",
       "    </tr>\n",
       "    <tr>\n",
       "      <th>3</th>\n",
       "      <td>Optum</td>\n",
       "      <td>based on 25 salaries</td>\n",
       "      <td>3-4 yrs exp</td>\n",
       "      <td>₹ 15.1L</td>\n",
       "      <td>₹ 21.3L</td>\n",
       "      <td>₹ 11.0L</td>\n",
       "    </tr>\n",
       "    <tr>\n",
       "      <th>4</th>\n",
       "      <td>Fractal Analytics</td>\n",
       "      <td>based on 75 salaries</td>\n",
       "      <td>2-4 yrs exp</td>\n",
       "      <td>₹ 15.1L</td>\n",
       "      <td>₹ 22.0L</td>\n",
       "      <td>₹ 9.5L</td>\n",
       "    </tr>\n",
       "    <tr>\n",
       "      <th>5</th>\n",
       "      <td>Tiger Analytics</td>\n",
       "      <td>based on 30 salaries</td>\n",
       "      <td>3-4 yrs exp</td>\n",
       "      <td>₹ 14.2L</td>\n",
       "      <td>₹ 18.5L</td>\n",
       "      <td>₹ 9.0L</td>\n",
       "    </tr>\n",
       "    <tr>\n",
       "      <th>6</th>\n",
       "      <td>UnitedHealth</td>\n",
       "      <td>based on 51 salaries</td>\n",
       "      <td>2-4 yrs exp</td>\n",
       "      <td>₹ 13.8L</td>\n",
       "      <td>₹ 20.5L</td>\n",
       "      <td>₹ 8.3L</td>\n",
       "    </tr>\n",
       "    <tr>\n",
       "      <th>7</th>\n",
       "      <td>Verizon</td>\n",
       "      <td>based on 14 salaries</td>\n",
       "      <td>4 yrs exp</td>\n",
       "      <td>₹ 12.7L</td>\n",
       "      <td>₹ 21.0L</td>\n",
       "      <td>₹ 10.0L</td>\n",
       "    </tr>\n",
       "    <tr>\n",
       "      <th>8</th>\n",
       "      <td>Ganit Business Solutions</td>\n",
       "      <td>based on 13 salaries</td>\n",
       "      <td>4 yrs exp</td>\n",
       "      <td>₹ 12.4L</td>\n",
       "      <td>₹ 15.0L</td>\n",
       "      <td>₹ 8.5L</td>\n",
       "    </tr>\n",
       "    <tr>\n",
       "      <th>9</th>\n",
       "      <td>Ericsson</td>\n",
       "      <td>based on 43 salaries</td>\n",
       "      <td>3-4 yrs exp</td>\n",
       "      <td>₹ 11.9L</td>\n",
       "      <td>₹ 24.0L</td>\n",
       "      <td>₹ 5.8L</td>\n",
       "    </tr>\n",
       "  </tbody>\n",
       "</table>\n",
       "</div>"
      ],
      "text/plain": [
       "               Company Name   Total Salary Record Experience Required  \\\n",
       "0                   Walmart  based on 10 salaries           3 yrs exp   \n",
       "1                  Ab Inbev  based on 25 salaries         3-4 yrs exp   \n",
       "2                        ZS  based on 13 salaries           2 yrs exp   \n",
       "3                     Optum  based on 25 salaries         3-4 yrs exp   \n",
       "4         Fractal Analytics  based on 75 salaries         2-4 yrs exp   \n",
       "5           Tiger Analytics  based on 30 salaries         3-4 yrs exp   \n",
       "6              UnitedHealth  based on 51 salaries         2-4 yrs exp   \n",
       "7                   Verizon  based on 14 salaries           4 yrs exp   \n",
       "8  Ganit Business Solutions  based on 13 salaries           4 yrs exp   \n",
       "9                  Ericsson  based on 43 salaries         3-4 yrs exp   \n",
       "\n",
       "  Minimun Salary Maximum Salary Average Salary  \n",
       "0        ₹ 28.7L        ₹ 35.0L        ₹ 17.7L  \n",
       "1        ₹ 20.2L        ₹ 25.5L        ₹ 15.0L  \n",
       "2        ₹ 15.5L        ₹ 20.0L         ₹ 9.8L  \n",
       "3        ₹ 15.1L        ₹ 21.3L        ₹ 11.0L  \n",
       "4        ₹ 15.1L        ₹ 22.0L         ₹ 9.5L  \n",
       "5        ₹ 14.2L        ₹ 18.5L         ₹ 9.0L  \n",
       "6        ₹ 13.8L        ₹ 20.5L         ₹ 8.3L  \n",
       "7        ₹ 12.7L        ₹ 21.0L        ₹ 10.0L  \n",
       "8        ₹ 12.4L        ₹ 15.0L         ₹ 8.5L  \n",
       "9        ₹ 11.9L        ₹ 24.0L         ₹ 5.8L  "
      ]
     },
     "execution_count": 337,
     "metadata": {},
     "output_type": "execute_result"
    }
   ],
   "source": [
    "data = pd.DataFrame({'Company Name' :titles,'Total Salary Record':total_sal,'Experience Required':job_exp,'Minimun Salary':job_sal_min,'Maximum Salary':job_sal_max,'Average Salary':job_sal_avg})\n",
    "data"
   ]
  },
  {
   "cell_type": "code",
   "execution_count": null,
   "id": "13dc3f52",
   "metadata": {},
   "outputs": [],
   "source": []
  },
  {
   "cell_type": "markdown",
   "id": "25e9aafd",
   "metadata": {},
   "source": [
    "# Thank You : )"
   ]
  }
 ],
 "metadata": {
  "kernelspec": {
   "display_name": "Python 3",
   "language": "python",
   "name": "python3"
  },
  "language_info": {
   "codemirror_mode": {
    "name": "ipython",
    "version": 3
   },
   "file_extension": ".py",
   "mimetype": "text/x-python",
   "name": "python",
   "nbconvert_exporter": "python",
   "pygments_lexer": "ipython3",
   "version": "3.8.8"
  }
 },
 "nbformat": 4,
 "nbformat_minor": 5
}
