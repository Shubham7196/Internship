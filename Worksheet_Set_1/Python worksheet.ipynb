{
 "cells": [
  {
   "cell_type": "markdown",
   "id": "b5058bfa",
   "metadata": {},
   "source": [
    "## Write a python program to find the factorial of a number. "
   ]
  },
  {
   "cell_type": "code",
   "execution_count": null,
   "id": "5cd9c31a",
   "metadata": {},
   "outputs": [],
   "source": [
    "import math #importing \"math\" for mathematical operations\n",
    "\n",
    "num = int(input(\"Enter the Number : \"))\n",
    "\n",
    "print(\"Factorial is : \", math.factorial(num))"
   ]
  },
  {
   "cell_type": "code",
   "execution_count": null,
   "id": "06506fd1",
   "metadata": {},
   "outputs": [],
   "source": []
  },
  {
   "cell_type": "code",
   "execution_count": null,
   "id": "804e1a35",
   "metadata": {},
   "outputs": [],
   "source": []
  },
  {
   "cell_type": "markdown",
   "id": "f46ff2f1",
   "metadata": {},
   "source": [
    "## Write a python program to find whether a number is prime or composite. "
   ]
  },
  {
   "cell_type": "code",
   "execution_count": null,
   "id": "733d29d8",
   "metadata": {},
   "outputs": [],
   "source": [
    "num=int(input(\"Enter the number :\"))\n",
    "\n",
    "if num > 1:\n",
    "  \n",
    "  \n",
    "    for i in range(2, int(num/2)+1):\n",
    "  \n",
    "      \n",
    "        if (num % i) == 0:\n",
    "            print(num, \"is not a prime number\")\n",
    "            break\n",
    "    else:\n",
    "        print(num, \"is a prime number\")\n",
    "  \n",
    "else:\n",
    "        print(num, \"is not a prime number\")\n",
    "    \n",
    "\n",
    "    \n",
    "    "
   ]
  },
  {
   "cell_type": "code",
   "execution_count": null,
   "id": "9cb62227",
   "metadata": {},
   "outputs": [],
   "source": []
  },
  {
   "cell_type": "code",
   "execution_count": null,
   "id": "172b0231",
   "metadata": {},
   "outputs": [],
   "source": []
  },
  {
   "cell_type": "markdown",
   "id": "2c9a1dba",
   "metadata": {},
   "source": [
    "## Write a python program to check whether a given string is palindrome or not. "
   ]
  },
  {
   "cell_type": "code",
   "execution_count": null,
   "id": "ffa823b5",
   "metadata": {},
   "outputs": [],
   "source": [
    "str=input(\"Enter string:\") #input as str\n",
    "\n",
    "if(str==str[::-1]):\n",
    "   print(\"The string is a palindrome\")\n",
    "\n",
    "else:\n",
    "   print(\"The string isn't a palindrome\")"
   ]
  },
  {
   "cell_type": "code",
   "execution_count": null,
   "id": "3ad31303",
   "metadata": {},
   "outputs": [],
   "source": []
  },
  {
   "cell_type": "code",
   "execution_count": null,
   "id": "4ce19da1",
   "metadata": {},
   "outputs": [],
   "source": []
  },
  {
   "cell_type": "markdown",
   "id": "f2eab3a9",
   "metadata": {},
   "source": [
    "## Write a python program to print the frequency of each of the characters present in a given string"
   ]
  },
  {
   "cell_type": "code",
   "execution_count": null,
   "id": "971a8528",
   "metadata": {},
   "outputs": [],
   "source": [
    "\n",
    "str =input(\"Enter String : \") \n",
    "\n",
    "# By using counter\n",
    "res = {}\n",
    "\n",
    "res={n: str.count(n) for n in set(str)}\n",
    "\n",
    "print(\"Frequency of each character :\\n \",res)"
   ]
  },
  {
   "cell_type": "code",
   "execution_count": null,
   "id": "ac599b54",
   "metadata": {},
   "outputs": [],
   "source": []
  }
 ],
 "metadata": {
  "kernelspec": {
   "display_name": "Python 3",
   "language": "python",
   "name": "python3"
  },
  "language_info": {
   "codemirror_mode": {
    "name": "ipython",
    "version": 3
   },
   "file_extension": ".py",
   "mimetype": "text/x-python",
   "name": "python",
   "nbconvert_exporter": "python",
   "pygments_lexer": "ipython3",
   "version": "3.8.8"
  }
 },
 "nbformat": 4,
 "nbformat_minor": 5
}
